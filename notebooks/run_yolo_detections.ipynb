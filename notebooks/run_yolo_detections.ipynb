{
 "cells": [
  {
   "cell_type": "code",
   "execution_count": 1,
   "id": "31c1964f",
   "metadata": {},
   "outputs": [
    {
     "name": "stdout",
     "output_type": "stream",
     "text": [
      "Creating new Ultralytics Settings v0.0.6 file  \n",
      "View Ultralytics Settings with 'yolo settings' or at 'C:\\Users\\tsega\\AppData\\Roaming\\Ultralytics\\settings.json'\n",
      "Update Settings with 'yolo settings key=value', i.e. 'yolo settings runs_dir=path/to/dir'. For help see https://docs.ultralytics.com/quickstart/#ultralytics-settings.\n"
     ]
    }
   ],
   "source": [
    "import os\n",
    "import sys\n",
    "sys.path.append(\"..\")  \n",
    "from dotenv import load_dotenv\n",
    "load_dotenv()\n",
    "from src import run_yolo_detections"
   ]
  },
  {
   "cell_type": "code",
   "execution_count": 2,
   "id": "7f840bf6",
   "metadata": {},
   "outputs": [],
   "source": [
    "# 📦 Step 1: Import from script\n",
    "from src.run_yolo_detections import connect_postgres, create_detections_table, run_yolo_detections\n"
   ]
  },
  {
   "cell_type": "code",
   "execution_count": 3,
   "id": "de8f5df3",
   "metadata": {},
   "outputs": [],
   "source": [
    "conn = connect_postgres(password=os.getenv(\"DB_PASSWORD\"))"
   ]
  },
  {
   "cell_type": "code",
   "execution_count": 4,
   "id": "b507558a",
   "metadata": {},
   "outputs": [],
   "source": [
    "create_detections_table(conn)"
   ]
  },
  {
   "cell_type": "code",
   "execution_count": 5,
   "id": "0ab2ab3d",
   "metadata": {},
   "outputs": [
    {
     "name": "stdout",
     "output_type": "stream",
     "text": [
      "Downloading https://github.com/ultralytics/assets/releases/download/v8.3.0/yolov8n.pt to 'yolov8n.pt'...\n"
     ]
    },
    {
     "name": "stderr",
     "output_type": "stream",
     "text": [
      "100%|██████████| 6.25M/6.25M [00:48<00:00, 134kB/s] \n",
      "Running YOLO:   0%|          | 0/167 [00:00<?, ?it/s]"
     ]
    },
    {
     "name": "stdout",
     "output_type": "stream",
     "text": [
      "\n",
      "image 1/1 c:\\Users\\tsega\\TelegramMedicalBusinessAnalytics\\notebooks\\..\\data\\raw\\telegram_images\\2025-07-11\\CheMed123\\photo_2022-09-05_09-57-09.jpg: 544x640 1 bottle, 280.9ms\n",
      "Speed: 13.2ms preprocess, 280.9ms inference, 10.6ms postprocess per image at shape (1, 3, 544, 640)\n"
     ]
    },
    {
     "name": "stderr",
     "output_type": "stream",
     "text": [
      "Running YOLO:   1%|          | 1/167 [00:04<12:55,  4.67s/it]"
     ]
    },
    {
     "name": "stdout",
     "output_type": "stream",
     "text": [
      "\n",
      "image 1/1 c:\\Users\\tsega\\TelegramMedicalBusinessAnalytics\\notebooks\\..\\data\\raw\\telegram_images\\2025-07-11\\CheMed123\\photo_2022-09-05_10-02-05.jpg: 640x640 (no detections), 160.1ms\n",
      "Speed: 7.6ms preprocess, 160.1ms inference, 1.1ms postprocess per image at shape (1, 3, 640, 640)\n"
     ]
    },
    {
     "name": "stderr",
     "output_type": "stream",
     "text": [
      "Running YOLO:   1%|          | 2/167 [00:04<05:37,  2.04s/it]"
     ]
    },
    {
     "name": "stdout",
     "output_type": "stream",
     "text": [
      "\n",
      "image 1/1 c:\\Users\\tsega\\TelegramMedicalBusinessAnalytics\\notebooks\\..\\data\\raw\\telegram_images\\2025-07-11\\CheMed123\\photo_2022-09-06_04-26-15.jpg: 544x640 1 bottle, 131.3ms\n",
      "Speed: 2.9ms preprocess, 131.3ms inference, 2.0ms postprocess per image at shape (1, 3, 544, 640)\n"
     ]
    },
    {
     "name": "stderr",
     "output_type": "stream",
     "text": [
      "Running YOLO:   2%|▏         | 3/167 [00:05<03:13,  1.18s/it]"
     ]
    },
    {
     "name": "stdout",
     "output_type": "stream",
     "text": [
      "\n",
      "image 1/1 c:\\Users\\tsega\\TelegramMedicalBusinessAnalytics\\notebooks\\..\\data\\raw\\telegram_images\\2025-07-11\\CheMed123\\photo_2022-09-07_09-16-40.jpg: 640x640 (no detections), 126.0ms\n",
      "Speed: 3.9ms preprocess, 126.0ms inference, 0.6ms postprocess per image at shape (1, 3, 640, 640)\n"
     ]
    },
    {
     "name": "stderr",
     "output_type": "stream",
     "text": [
      "Running YOLO:   2%|▏         | 4/167 [00:05<02:05,  1.30it/s]"
     ]
    },
    {
     "name": "stdout",
     "output_type": "stream",
     "text": [
      "\n",
      "image 1/1 c:\\Users\\tsega\\TelegramMedicalBusinessAnalytics\\notebooks\\..\\data\\raw\\telegram_images\\2025-07-11\\CheMed123\\photo_2022-09-10_15-55-25.jpg: 640x640 1 clock, 121.3ms\n",
      "Speed: 4.2ms preprocess, 121.3ms inference, 5.0ms postprocess per image at shape (1, 3, 640, 640)\n"
     ]
    },
    {
     "name": "stderr",
     "output_type": "stream",
     "text": [
      "Running YOLO:   3%|▎         | 5/167 [00:05<01:28,  1.83it/s]"
     ]
    },
    {
     "name": "stdout",
     "output_type": "stream",
     "text": [
      "\n",
      "image 1/1 c:\\Users\\tsega\\TelegramMedicalBusinessAnalytics\\notebooks\\..\\data\\raw\\telegram_images\\2025-07-11\\CheMed123\\photo_2022-09-16_07-42-31.jpg: 640x640 4 hot dogs, 2 donuts, 126.3ms\n",
      "Speed: 6.9ms preprocess, 126.3ms inference, 1.4ms postprocess per image at shape (1, 3, 640, 640)\n"
     ]
    },
    {
     "name": "stderr",
     "output_type": "stream",
     "text": [
      "Running YOLO:   4%|▎         | 6/167 [00:05<01:07,  2.39it/s]"
     ]
    },
    {
     "name": "stdout",
     "output_type": "stream",
     "text": [
      "\n",
      "image 1/1 c:\\Users\\tsega\\TelegramMedicalBusinessAnalytics\\notebooks\\..\\data\\raw\\telegram_images\\2025-07-11\\CheMed123\\photo_2022-09-28_05-45-31.jpg: 640x480 (no detections), 134.7ms\n",
      "Speed: 3.3ms preprocess, 134.7ms inference, 1.1ms postprocess per image at shape (1, 3, 640, 480)\n"
     ]
    },
    {
     "name": "stderr",
     "output_type": "stream",
     "text": [
      "Running YOLO:   4%|▍         | 7/167 [00:05<00:53,  2.99it/s]"
     ]
    },
    {
     "name": "stdout",
     "output_type": "stream",
     "text": [
      "\n",
      "image 1/1 c:\\Users\\tsega\\TelegramMedicalBusinessAnalytics\\notebooks\\..\\data\\raw\\telegram_images\\2025-07-11\\CheMed123\\photo_2022-09-30_07-33-42.jpg: 640x640 (no detections), 124.0ms\n",
      "Speed: 6.2ms preprocess, 124.0ms inference, 0.7ms postprocess per image at shape (1, 3, 640, 640)\n"
     ]
    },
    {
     "name": "stderr",
     "output_type": "stream",
     "text": [
      "Running YOLO:   5%|▍         | 8/167 [00:05<00:43,  3.65it/s]"
     ]
    },
    {
     "name": "stdout",
     "output_type": "stream",
     "text": [
      "\n",
      "image 1/1 c:\\Users\\tsega\\TelegramMedicalBusinessAnalytics\\notebooks\\..\\data\\raw\\telegram_images\\2025-07-11\\CheMed123\\photo_2022-10-03_05-16-30.jpg: 640x480 11 bottles, 108.4ms\n",
      "Speed: 2.0ms preprocess, 108.4ms inference, 3.2ms postprocess per image at shape (1, 3, 640, 480)\n"
     ]
    },
    {
     "name": "stderr",
     "output_type": "stream",
     "text": [
      "Running YOLO:   5%|▌         | 9/167 [00:05<00:36,  4.34it/s]"
     ]
    },
    {
     "name": "stdout",
     "output_type": "stream",
     "text": [
      "\n",
      "image 1/1 c:\\Users\\tsega\\TelegramMedicalBusinessAnalytics\\notebooks\\..\\data\\raw\\telegram_images\\2025-07-11\\CheMed123\\photo_2022-10-06_09-23-46.jpg: 544x640 (no detections), 110.8ms\n",
      "Speed: 5.3ms preprocess, 110.8ms inference, 1.4ms postprocess per image at shape (1, 3, 544, 640)\n"
     ]
    },
    {
     "name": "stderr",
     "output_type": "stream",
     "text": [
      "Running YOLO:   6%|▌         | 10/167 [00:06<00:31,  4.96it/s]"
     ]
    },
    {
     "name": "stdout",
     "output_type": "stream",
     "text": [
      "\n",
      "image 1/1 c:\\Users\\tsega\\TelegramMedicalBusinessAnalytics\\notebooks\\..\\data\\raw\\telegram_images\\2025-07-11\\CheMed123\\photo_2022-10-12_14-14-19.jpg: 480x640 2 persons, 2 dining tables, 152.4ms\n",
      "Speed: 3.2ms preprocess, 152.4ms inference, 2.0ms postprocess per image at shape (1, 3, 480, 640)\n"
     ]
    },
    {
     "name": "stderr",
     "output_type": "stream",
     "text": [
      "Running YOLO:   7%|▋         | 11/167 [00:06<00:30,  5.08it/s]"
     ]
    },
    {
     "name": "stdout",
     "output_type": "stream",
     "text": [
      "\n",
      "image 1/1 c:\\Users\\tsega\\TelegramMedicalBusinessAnalytics\\notebooks\\..\\data\\raw\\telegram_images\\2025-07-11\\CheMed123\\photo_2022-10-12_14-14-52.jpg: 480x640 2 persons, 2 dining tables, 95.2ms\n",
      "Speed: 2.4ms preprocess, 95.2ms inference, 1.0ms postprocess per image at shape (1, 3, 480, 640)\n"
     ]
    },
    {
     "name": "stderr",
     "output_type": "stream",
     "text": [
      "Running YOLO:   7%|▋         | 12/167 [00:06<00:26,  5.76it/s]"
     ]
    },
    {
     "name": "stdout",
     "output_type": "stream",
     "text": [
      "\n",
      "image 1/1 c:\\Users\\tsega\\TelegramMedicalBusinessAnalytics\\notebooks\\..\\data\\raw\\telegram_images\\2025-07-11\\CheMed123\\photo_2022-10-17_14-02-40.jpg: 640x640 1 bird, 127.7ms\n",
      "Speed: 4.9ms preprocess, 127.7ms inference, 2.2ms postprocess per image at shape (1, 3, 640, 640)\n"
     ]
    },
    {
     "name": "stderr",
     "output_type": "stream",
     "text": [
      "Running YOLO:   8%|▊         | 13/167 [00:06<00:25,  5.98it/s]"
     ]
    },
    {
     "name": "stdout",
     "output_type": "stream",
     "text": [
      "\n",
      "image 1/1 c:\\Users\\tsega\\TelegramMedicalBusinessAnalytics\\notebooks\\..\\data\\raw\\telegram_images\\2025-07-11\\CheMed123\\photo_2022-10-18_07-57-36.jpg: 544x640 1 stop sign, 117.2ms\n",
      "Speed: 2.6ms preprocess, 117.2ms inference, 1.1ms postprocess per image at shape (1, 3, 544, 640)\n"
     ]
    },
    {
     "name": "stderr",
     "output_type": "stream",
     "text": [
      "Running YOLO:   8%|▊         | 14/167 [00:06<00:24,  6.36it/s]"
     ]
    },
    {
     "name": "stdout",
     "output_type": "stream",
     "text": [
      "\n",
      "image 1/1 c:\\Users\\tsega\\TelegramMedicalBusinessAnalytics\\notebooks\\..\\data\\raw\\telegram_images\\2025-07-11\\CheMed123\\photo_2022-10-20_12-24-01.jpg: 544x640 1 cell phone, 126.3ms\n",
      "Speed: 3.0ms preprocess, 126.3ms inference, 1.7ms postprocess per image at shape (1, 3, 544, 640)\n"
     ]
    },
    {
     "name": "stderr",
     "output_type": "stream",
     "text": [
      "Running YOLO:   9%|▉         | 15/167 [00:06<00:23,  6.54it/s]"
     ]
    },
    {
     "name": "stdout",
     "output_type": "stream",
     "text": [
      "\n",
      "image 1/1 c:\\Users\\tsega\\TelegramMedicalBusinessAnalytics\\notebooks\\..\\data\\raw\\telegram_images\\2025-07-11\\CheMed123\\photo_2022-10-24_09-34-19.jpg: 544x640 1 person, 1 cell phone, 114.0ms\n",
      "Speed: 3.6ms preprocess, 114.0ms inference, 1.3ms postprocess per image at shape (1, 3, 544, 640)\n"
     ]
    },
    {
     "name": "stderr",
     "output_type": "stream",
     "text": [
      "Running YOLO:  10%|▉         | 16/167 [00:06<00:22,  6.75it/s]"
     ]
    },
    {
     "name": "stdout",
     "output_type": "stream",
     "text": [
      "\n",
      "image 1/1 c:\\Users\\tsega\\TelegramMedicalBusinessAnalytics\\notebooks\\..\\data\\raw\\telegram_images\\2025-07-11\\CheMed123\\photo_2022-10-28_06-49-36.jpg: 544x640 1 person, 1 cup, 2 books, 129.0ms\n",
      "Speed: 6.5ms preprocess, 129.0ms inference, 1.5ms postprocess per image at shape (1, 3, 544, 640)\n"
     ]
    },
    {
     "name": "stderr",
     "output_type": "stream",
     "text": [
      "Running YOLO:  10%|█         | 17/167 [00:07<00:22,  6.52it/s]"
     ]
    },
    {
     "name": "stdout",
     "output_type": "stream",
     "text": [
      "\n",
      "image 1/1 c:\\Users\\tsega\\TelegramMedicalBusinessAnalytics\\notebooks\\..\\data\\raw\\telegram_images\\2025-07-11\\CheMed123\\photo_2022-10-28_09-15-09.jpg: 544x640 (no detections), 118.7ms\n",
      "Speed: 5.4ms preprocess, 118.7ms inference, 1.0ms postprocess per image at shape (1, 3, 544, 640)\n"
     ]
    },
    {
     "name": "stderr",
     "output_type": "stream",
     "text": [
      "Running YOLO:  11%|█         | 18/167 [00:07<00:22,  6.77it/s]"
     ]
    },
    {
     "name": "stdout",
     "output_type": "stream",
     "text": [
      "\n",
      "image 1/1 c:\\Users\\tsega\\TelegramMedicalBusinessAnalytics\\notebooks\\..\\data\\raw\\telegram_images\\2025-07-11\\CheMed123\\photo_2022-10-29_20-26-28.jpg: 640x480 3 persons, 1 surfboard, 107.2ms\n",
      "Speed: 2.0ms preprocess, 107.2ms inference, 1.1ms postprocess per image at shape (1, 3, 640, 480)\n"
     ]
    },
    {
     "name": "stderr",
     "output_type": "stream",
     "text": [
      "Running YOLO:  11%|█▏        | 19/167 [00:07<00:21,  7.04it/s]"
     ]
    },
    {
     "name": "stdout",
     "output_type": "stream",
     "text": [
      "\n",
      "image 1/1 c:\\Users\\tsega\\TelegramMedicalBusinessAnalytics\\notebooks\\..\\data\\raw\\telegram_images\\2025-07-11\\CheMed123\\photo_2022-11-09_08-53-25.jpg: 544x640 1 person, 118.0ms\n",
      "Speed: 3.1ms preprocess, 118.0ms inference, 1.5ms postprocess per image at shape (1, 3, 544, 640)\n"
     ]
    },
    {
     "name": "stderr",
     "output_type": "stream",
     "text": [
      "Running YOLO:  12%|█▏        | 20/167 [00:07<00:20,  7.14it/s]"
     ]
    },
    {
     "name": "stdout",
     "output_type": "stream",
     "text": [
      "\n",
      "image 1/1 c:\\Users\\tsega\\TelegramMedicalBusinessAnalytics\\notebooks\\..\\data\\raw\\telegram_images\\2025-07-11\\CheMed123\\photo_2022-11-15_05-24-41.jpg: 640x480 11 bottles, 122.1ms\n",
      "Speed: 2.7ms preprocess, 122.1ms inference, 2.0ms postprocess per image at shape (1, 3, 640, 480)\n"
     ]
    },
    {
     "name": "stderr",
     "output_type": "stream",
     "text": [
      "Running YOLO:  13%|█▎        | 21/167 [00:07<00:20,  6.98it/s]"
     ]
    },
    {
     "name": "stdout",
     "output_type": "stream",
     "text": [
      "\n",
      "image 1/1 c:\\Users\\tsega\\TelegramMedicalBusinessAnalytics\\notebooks\\..\\data\\raw\\telegram_images\\2025-07-11\\CheMed123\\photo_2022-11-15_08-17-41.jpg: 544x640 1 person, 111.9ms\n",
      "Speed: 4.2ms preprocess, 111.9ms inference, 1.2ms postprocess per image at shape (1, 3, 544, 640)\n"
     ]
    },
    {
     "name": "stderr",
     "output_type": "stream",
     "text": [
      "Running YOLO:  13%|█▎        | 22/167 [00:07<00:20,  7.11it/s]"
     ]
    },
    {
     "name": "stdout",
     "output_type": "stream",
     "text": [
      "\n",
      "image 1/1 c:\\Users\\tsega\\TelegramMedicalBusinessAnalytics\\notebooks\\..\\data\\raw\\telegram_images\\2025-07-11\\CheMed123\\photo_2022-11-15_11-51-16.jpg: 544x640 2 oranges, 1 book, 111.0ms\n",
      "Speed: 3.8ms preprocess, 111.0ms inference, 1.4ms postprocess per image at shape (1, 3, 544, 640)\n"
     ]
    },
    {
     "name": "stderr",
     "output_type": "stream",
     "text": [
      "Running YOLO:  14%|█▍        | 23/167 [00:07<00:20,  7.13it/s]"
     ]
    },
    {
     "name": "stdout",
     "output_type": "stream",
     "text": [
      "\n",
      "image 1/1 c:\\Users\\tsega\\TelegramMedicalBusinessAnalytics\\notebooks\\..\\data\\raw\\telegram_images\\2025-07-11\\CheMed123\\photo_2022-11-22_08-15-47.jpg: 544x640 (no detections), 115.1ms\n",
      "Speed: 3.0ms preprocess, 115.1ms inference, 0.7ms postprocess per image at shape (1, 3, 544, 640)\n"
     ]
    },
    {
     "name": "stderr",
     "output_type": "stream",
     "text": [
      "Running YOLO:  14%|█▍        | 24/167 [00:08<00:19,  7.30it/s]"
     ]
    },
    {
     "name": "stdout",
     "output_type": "stream",
     "text": [
      "\n",
      "image 1/1 c:\\Users\\tsega\\TelegramMedicalBusinessAnalytics\\notebooks\\..\\data\\raw\\telegram_images\\2025-07-11\\CheMed123\\photo_2022-11-29_07-43-06.jpg: 544x640 (no detections), 147.2ms\n",
      "Speed: 3.4ms preprocess, 147.2ms inference, 0.9ms postprocess per image at shape (1, 3, 544, 640)\n"
     ]
    },
    {
     "name": "stderr",
     "output_type": "stream",
     "text": [
      "Running YOLO:  15%|█▍        | 25/167 [00:08<00:20,  6.86it/s]"
     ]
    },
    {
     "name": "stdout",
     "output_type": "stream",
     "text": [
      "\n",
      "image 1/1 c:\\Users\\tsega\\TelegramMedicalBusinessAnalytics\\notebooks\\..\\data\\raw\\telegram_images\\2025-07-11\\CheMed123\\photo_2022-11-30_06-31-44.jpg: 320x640 8 mouses, 101.0ms\n",
      "Speed: 1.6ms preprocess, 101.0ms inference, 1.3ms postprocess per image at shape (1, 3, 320, 640)\n"
     ]
    },
    {
     "name": "stderr",
     "output_type": "stream",
     "text": [
      "Running YOLO:  16%|█▌        | 26/167 [00:08<00:19,  7.14it/s]"
     ]
    },
    {
     "name": "stdout",
     "output_type": "stream",
     "text": [
      "\n",
      "image 1/1 c:\\Users\\tsega\\TelegramMedicalBusinessAnalytics\\notebooks\\..\\data\\raw\\telegram_images\\2025-07-11\\CheMed123\\photo_2022-12-01_06-47-22.jpg: 352x640 10 persons, 156.9ms\n",
      "Speed: 2.5ms preprocess, 156.9ms inference, 1.0ms postprocess per image at shape (1, 3, 352, 640)\n"
     ]
    },
    {
     "name": "stderr",
     "output_type": "stream",
     "text": [
      "Running YOLO:  16%|█▌        | 27/167 [00:08<00:20,  6.67it/s]"
     ]
    },
    {
     "name": "stdout",
     "output_type": "stream",
     "text": [
      "\n",
      "image 1/1 c:\\Users\\tsega\\TelegramMedicalBusinessAnalytics\\notebooks\\..\\data\\raw\\telegram_images\\2025-07-11\\CheMed123\\photo_2022-12-02_06-06-12.jpg: 640x640 1 person, 132.4ms\n",
      "Speed: 4.4ms preprocess, 132.4ms inference, 2.2ms postprocess per image at shape (1, 3, 640, 640)\n"
     ]
    },
    {
     "name": "stderr",
     "output_type": "stream",
     "text": [
      "Running YOLO:  17%|█▋        | 28/167 [00:08<00:21,  6.54it/s]"
     ]
    },
    {
     "name": "stdout",
     "output_type": "stream",
     "text": [
      "\n",
      "image 1/1 c:\\Users\\tsega\\TelegramMedicalBusinessAnalytics\\notebooks\\..\\data\\raw\\telegram_images\\2025-07-11\\CheMed123\\photo_2022-12-02_13-44-41.jpg: 640x640 1 person, 1 chair, 132.2ms\n",
      "Speed: 5.3ms preprocess, 132.2ms inference, 1.6ms postprocess per image at shape (1, 3, 640, 640)\n"
     ]
    },
    {
     "name": "stderr",
     "output_type": "stream",
     "text": [
      "Running YOLO:  17%|█▋        | 29/167 [00:08<00:21,  6.46it/s]"
     ]
    },
    {
     "name": "stdout",
     "output_type": "stream",
     "text": [
      "\n",
      "image 1/1 c:\\Users\\tsega\\TelegramMedicalBusinessAnalytics\\notebooks\\..\\data\\raw\\telegram_images\\2025-07-11\\CheMed123\\photo_2022-12-04_12-35-18.jpg: 384x640 1 person, 1 cell phone, 119.2ms\n",
      "Speed: 2.4ms preprocess, 119.2ms inference, 2.1ms postprocess per image at shape (1, 3, 384, 640)\n"
     ]
    },
    {
     "name": "stderr",
     "output_type": "stream",
     "text": [
      "Running YOLO:  18%|█▊        | 30/167 [00:08<00:20,  6.62it/s]"
     ]
    },
    {
     "name": "stdout",
     "output_type": "stream",
     "text": [
      "\n",
      "image 1/1 c:\\Users\\tsega\\TelegramMedicalBusinessAnalytics\\notebooks\\..\\data\\raw\\telegram_images\\2025-07-11\\CheMed123\\photo_2022-12-05_05-57-22.jpg: 640x640 1 scissors, 124.6ms\n",
      "Speed: 4.7ms preprocess, 124.6ms inference, 3.2ms postprocess per image at shape (1, 3, 640, 640)\n"
     ]
    },
    {
     "name": "stderr",
     "output_type": "stream",
     "text": [
      "Running YOLO:  19%|█▊        | 31/167 [00:09<00:20,  6.63it/s]"
     ]
    },
    {
     "name": "stdout",
     "output_type": "stream",
     "text": [
      "\n",
      "image 1/1 c:\\Users\\tsega\\TelegramMedicalBusinessAnalytics\\notebooks\\..\\data\\raw\\telegram_images\\2025-07-11\\CheMed123\\photo_2022-12-07_06-43-48.jpg: 640x640 2 persons, 1 tv, 124.4ms\n",
      "Speed: 4.1ms preprocess, 124.4ms inference, 1.0ms postprocess per image at shape (1, 3, 640, 640)\n"
     ]
    },
    {
     "name": "stderr",
     "output_type": "stream",
     "text": [
      "Running YOLO:  19%|█▉        | 32/167 [00:09<00:20,  6.69it/s]"
     ]
    },
    {
     "name": "stdout",
     "output_type": "stream",
     "text": [
      "\n",
      "image 1/1 c:\\Users\\tsega\\TelegramMedicalBusinessAnalytics\\notebooks\\..\\data\\raw\\telegram_images\\2025-07-11\\CheMed123\\photo_2022-12-09_04-09-49.jpg: 640x640 (no detections), 136.8ms\n",
      "Speed: 5.1ms preprocess, 136.8ms inference, 2.4ms postprocess per image at shape (1, 3, 640, 640)\n"
     ]
    },
    {
     "name": "stderr",
     "output_type": "stream",
     "text": [
      "Running YOLO:  20%|█▉        | 33/167 [00:09<00:20,  6.45it/s]"
     ]
    },
    {
     "name": "stdout",
     "output_type": "stream",
     "text": [
      "\n",
      "image 1/1 c:\\Users\\tsega\\TelegramMedicalBusinessAnalytics\\notebooks\\..\\data\\raw\\telegram_images\\2025-07-11\\CheMed123\\photo_2022-12-09_12-28-53.jpg: 640x640 1 frisbee, 3 kites, 130.9ms\n",
      "Speed: 5.2ms preprocess, 130.9ms inference, 1.1ms postprocess per image at shape (1, 3, 640, 640)\n"
     ]
    },
    {
     "name": "stderr",
     "output_type": "stream",
     "text": [
      "Running YOLO:  20%|██        | 34/167 [00:09<00:20,  6.41it/s]"
     ]
    },
    {
     "name": "stdout",
     "output_type": "stream",
     "text": [
      "\n",
      "image 1/1 c:\\Users\\tsega\\TelegramMedicalBusinessAnalytics\\notebooks\\..\\data\\raw\\telegram_images\\2025-07-11\\CheMed123\\photo_2022-12-13_05-55-18.jpg: 640x640 1 cake, 126.7ms\n",
      "Speed: 3.9ms preprocess, 126.7ms inference, 1.8ms postprocess per image at shape (1, 3, 640, 640)\n"
     ]
    },
    {
     "name": "stderr",
     "output_type": "stream",
     "text": [
      "Running YOLO:  21%|██        | 35/167 [00:09<00:20,  6.51it/s]"
     ]
    },
    {
     "name": "stdout",
     "output_type": "stream",
     "text": [
      "\n",
      "image 1/1 c:\\Users\\tsega\\TelegramMedicalBusinessAnalytics\\notebooks\\..\\data\\raw\\telegram_images\\2025-07-11\\CheMed123\\photo_2022-12-16_12-21-01.jpg: 640x640 5 persons, 1 horse, 117.8ms\n",
      "Speed: 3.8ms preprocess, 117.8ms inference, 2.4ms postprocess per image at shape (1, 3, 640, 640)\n"
     ]
    },
    {
     "name": "stderr",
     "output_type": "stream",
     "text": [
      "Running YOLO:  22%|██▏       | 36/167 [00:09<00:19,  6.66it/s]"
     ]
    },
    {
     "name": "stdout",
     "output_type": "stream",
     "text": [
      "\n",
      "image 1/1 c:\\Users\\tsega\\TelegramMedicalBusinessAnalytics\\notebooks\\..\\data\\raw\\telegram_images\\2025-07-11\\CheMed123\\photo_2022-12-20_07-41-33.jpg: 544x640 1 person, 122.2ms\n",
      "Speed: 5.9ms preprocess, 122.2ms inference, 1.6ms postprocess per image at shape (1, 3, 544, 640)\n"
     ]
    },
    {
     "name": "stderr",
     "output_type": "stream",
     "text": [
      "Running YOLO:  22%|██▏       | 37/167 [00:10<00:19,  6.61it/s]"
     ]
    },
    {
     "name": "stdout",
     "output_type": "stream",
     "text": [
      "\n",
      "image 1/1 c:\\Users\\tsega\\TelegramMedicalBusinessAnalytics\\notebooks\\..\\data\\raw\\telegram_images\\2025-07-11\\CheMed123\\photo_2022-12-20_11-28-59.jpg: 640x640 1 stop sign, 132.5ms\n",
      "Speed: 4.4ms preprocess, 132.5ms inference, 2.1ms postprocess per image at shape (1, 3, 640, 640)\n"
     ]
    },
    {
     "name": "stderr",
     "output_type": "stream",
     "text": [
      "Running YOLO:  23%|██▎       | 38/167 [00:10<00:19,  6.45it/s]"
     ]
    },
    {
     "name": "stdout",
     "output_type": "stream",
     "text": [
      "\n",
      "image 1/1 c:\\Users\\tsega\\TelegramMedicalBusinessAnalytics\\notebooks\\..\\data\\raw\\telegram_images\\2025-07-11\\CheMed123\\photo_2022-12-20_17-25-05.jpg: 640x640 1 person, 148.9ms\n",
      "Speed: 6.8ms preprocess, 148.9ms inference, 1.2ms postprocess per image at shape (1, 3, 640, 640)\n"
     ]
    },
    {
     "name": "stderr",
     "output_type": "stream",
     "text": [
      "Running YOLO:  23%|██▎       | 39/167 [00:10<00:21,  6.07it/s]"
     ]
    },
    {
     "name": "stdout",
     "output_type": "stream",
     "text": [
      "\n",
      "image 1/1 c:\\Users\\tsega\\TelegramMedicalBusinessAnalytics\\notebooks\\..\\data\\raw\\telegram_images\\2025-07-11\\CheMed123\\photo_2022-12-22_03-11-26.jpg: 544x640 1 bottle, 122.0ms\n",
      "Speed: 2.9ms preprocess, 122.0ms inference, 1.1ms postprocess per image at shape (1, 3, 544, 640)\n"
     ]
    },
    {
     "name": "stderr",
     "output_type": "stream",
     "text": [
      "Running YOLO:  24%|██▍       | 40/167 [00:10<00:20,  6.33it/s]"
     ]
    },
    {
     "name": "stdout",
     "output_type": "stream",
     "text": [
      "\n",
      "image 1/1 c:\\Users\\tsega\\TelegramMedicalBusinessAnalytics\\notebooks\\..\\data\\raw\\telegram_images\\2025-07-11\\CheMed123\\photo_2022-12-22_06-40-25.jpg: 640x640 1 bottle, 136.7ms\n",
      "Speed: 7.6ms preprocess, 136.7ms inference, 1.6ms postprocess per image at shape (1, 3, 640, 640)\n"
     ]
    },
    {
     "name": "stderr",
     "output_type": "stream",
     "text": [
      "Running YOLO:  25%|██▍       | 41/167 [00:10<00:19,  6.32it/s]"
     ]
    },
    {
     "name": "stdout",
     "output_type": "stream",
     "text": [
      "\n",
      "image 1/1 c:\\Users\\tsega\\TelegramMedicalBusinessAnalytics\\notebooks\\..\\data\\raw\\telegram_images\\2025-07-11\\CheMed123\\photo_2022-12-23_06-26-15.jpg: 640x640 (no detections), 134.5ms\n",
      "Speed: 3.7ms preprocess, 134.5ms inference, 0.7ms postprocess per image at shape (1, 3, 640, 640)\n"
     ]
    },
    {
     "name": "stderr",
     "output_type": "stream",
     "text": [
      "Running YOLO:  25%|██▌       | 42/167 [00:10<00:19,  6.40it/s]"
     ]
    },
    {
     "name": "stdout",
     "output_type": "stream",
     "text": [
      "\n",
      "image 1/1 c:\\Users\\tsega\\TelegramMedicalBusinessAnalytics\\notebooks\\..\\data\\raw\\telegram_images\\2025-07-11\\CheMed123\\photo_2022-12-27_17-06-32.jpg: 640x640 2 persons, 1 banana, 1 remote, 125.0ms\n",
      "Speed: 8.2ms preprocess, 125.0ms inference, 1.1ms postprocess per image at shape (1, 3, 640, 640)\n"
     ]
    },
    {
     "name": "stderr",
     "output_type": "stream",
     "text": [
      "Running YOLO:  26%|██▌       | 43/167 [00:11<00:19,  6.38it/s]"
     ]
    },
    {
     "name": "stdout",
     "output_type": "stream",
     "text": [
      "\n",
      "image 1/1 c:\\Users\\tsega\\TelegramMedicalBusinessAnalytics\\notebooks\\..\\data\\raw\\telegram_images\\2025-07-11\\CheMed123\\photo_2022-12-28_06-31-50.jpg: 640x640 1 stop sign, 1 book, 163.3ms\n",
      "Speed: 5.7ms preprocess, 163.3ms inference, 2.1ms postprocess per image at shape (1, 3, 640, 640)\n"
     ]
    },
    {
     "name": "stderr",
     "output_type": "stream",
     "text": [
      "Running YOLO:  26%|██▋       | 44/167 [00:11<00:20,  6.05it/s]"
     ]
    },
    {
     "name": "stdout",
     "output_type": "stream",
     "text": [
      "\n",
      "image 1/1 c:\\Users\\tsega\\TelegramMedicalBusinessAnalytics\\notebooks\\..\\data\\raw\\telegram_images\\2025-07-11\\CheMed123\\photo_2022-12-28_17-02-08.jpg: 640x384 1 person, 1 potted plant, 1 book, 119.6ms\n",
      "Speed: 1.5ms preprocess, 119.6ms inference, 1.0ms postprocess per image at shape (1, 3, 640, 384)\n"
     ]
    },
    {
     "name": "stderr",
     "output_type": "stream",
     "text": [
      "Running YOLO:  27%|██▋       | 45/167 [00:11<00:19,  6.35it/s]"
     ]
    },
    {
     "name": "stdout",
     "output_type": "stream",
     "text": [
      "\n",
      "image 1/1 c:\\Users\\tsega\\TelegramMedicalBusinessAnalytics\\notebooks\\..\\data\\raw\\telegram_images\\2025-07-11\\CheMed123\\photo_2022-12-30_15-45-35.jpg: 640x288 2 persons, 123.6ms\n",
      "Speed: 2.0ms preprocess, 123.6ms inference, 2.4ms postprocess per image at shape (1, 3, 640, 288)\n"
     ]
    },
    {
     "name": "stderr",
     "output_type": "stream",
     "text": [
      "Running YOLO:  28%|██▊       | 46/167 [00:11<00:18,  6.49it/s]"
     ]
    },
    {
     "name": "stdout",
     "output_type": "stream",
     "text": [
      "\n",
      "image 1/1 c:\\Users\\tsega\\TelegramMedicalBusinessAnalytics\\notebooks\\..\\data\\raw\\telegram_images\\2025-07-11\\CheMed123\\photo_2023-01-02_07-02-55.jpg: 640x640 (no detections), 138.1ms\n",
      "Speed: 4.2ms preprocess, 138.1ms inference, 2.5ms postprocess per image at shape (1, 3, 640, 640)\n"
     ]
    },
    {
     "name": "stderr",
     "output_type": "stream",
     "text": [
      "Running YOLO:  28%|██▊       | 47/167 [00:11<00:18,  6.38it/s]"
     ]
    },
    {
     "name": "stdout",
     "output_type": "stream",
     "text": [
      "\n",
      "image 1/1 c:\\Users\\tsega\\TelegramMedicalBusinessAnalytics\\notebooks\\..\\data\\raw\\telegram_images\\2025-07-11\\CheMed123\\photo_2023-01-03_05-48-34.jpg: 640x640 1 person, 137.2ms\n",
      "Speed: 4.6ms preprocess, 137.2ms inference, 1.0ms postprocess per image at shape (1, 3, 640, 640)\n"
     ]
    },
    {
     "name": "stderr",
     "output_type": "stream",
     "text": [
      "Running YOLO:  29%|██▊       | 48/167 [00:11<00:18,  6.28it/s]"
     ]
    },
    {
     "name": "stdout",
     "output_type": "stream",
     "text": [
      "\n",
      "image 1/1 c:\\Users\\tsega\\TelegramMedicalBusinessAnalytics\\notebooks\\..\\data\\raw\\telegram_images\\2025-07-11\\CheMed123\\photo_2023-01-03_17-49-48.jpg: 640x352 1 person, 2 chairs, 122.6ms\n",
      "Speed: 3.2ms preprocess, 122.6ms inference, 1.0ms postprocess per image at shape (1, 3, 640, 352)\n"
     ]
    },
    {
     "name": "stderr",
     "output_type": "stream",
     "text": [
      "Running YOLO:  29%|██▉       | 49/167 [00:11<00:18,  6.48it/s]"
     ]
    },
    {
     "name": "stdout",
     "output_type": "stream",
     "text": [
      "\n",
      "image 1/1 c:\\Users\\tsega\\TelegramMedicalBusinessAnalytics\\notebooks\\..\\data\\raw\\telegram_images\\2025-07-11\\CheMed123\\photo_2023-01-04_05-58-02.jpg: 640x640 4 bottles, 166.4ms\n",
      "Speed: 7.1ms preprocess, 166.4ms inference, 1.3ms postprocess per image at shape (1, 3, 640, 640)\n"
     ]
    },
    {
     "name": "stderr",
     "output_type": "stream",
     "text": [
      "Running YOLO:  30%|██▉       | 50/167 [00:12<00:19,  5.98it/s]"
     ]
    },
    {
     "name": "stdout",
     "output_type": "stream",
     "text": [
      "\n",
      "image 1/1 c:\\Users\\tsega\\TelegramMedicalBusinessAnalytics\\notebooks\\..\\data\\raw\\telegram_images\\2025-07-11\\CheMed123\\photo_2023-01-06_06-05-01.jpg: 640x480 2 persons, 115.7ms\n",
      "Speed: 1.8ms preprocess, 115.7ms inference, 1.0ms postprocess per image at shape (1, 3, 640, 480)\n"
     ]
    },
    {
     "name": "stderr",
     "output_type": "stream",
     "text": [
      "Running YOLO:  31%|███       | 51/167 [00:12<00:18,  6.24it/s]"
     ]
    },
    {
     "name": "stdout",
     "output_type": "stream",
     "text": [
      "\n",
      "image 1/1 c:\\Users\\tsega\\TelegramMedicalBusinessAnalytics\\notebooks\\..\\data\\raw\\telegram_images\\2025-07-11\\CheMed123\\photo_2023-01-06_09-31-17.jpg: 640x640 (no detections), 155.8ms\n",
      "Speed: 4.1ms preprocess, 155.8ms inference, 2.5ms postprocess per image at shape (1, 3, 640, 640)\n"
     ]
    },
    {
     "name": "stderr",
     "output_type": "stream",
     "text": [
      "Running YOLO:  31%|███       | 52/167 [00:12<00:19,  5.98it/s]"
     ]
    },
    {
     "name": "stdout",
     "output_type": "stream",
     "text": [
      "\n",
      "image 1/1 c:\\Users\\tsega\\TelegramMedicalBusinessAnalytics\\notebooks\\..\\data\\raw\\telegram_images\\2025-07-11\\CheMed123\\photo_2023-01-06_16-06-21.jpg: 640x480 1 person, 1 bottle, 1 chair, 121.5ms\n",
      "Speed: 2.8ms preprocess, 121.5ms inference, 1.0ms postprocess per image at shape (1, 3, 640, 480)\n"
     ]
    },
    {
     "name": "stderr",
     "output_type": "stream",
     "text": [
      "Running YOLO:  32%|███▏      | 53/167 [00:12<00:18,  6.27it/s]"
     ]
    },
    {
     "name": "stdout",
     "output_type": "stream",
     "text": [
      "\n",
      "image 1/1 c:\\Users\\tsega\\TelegramMedicalBusinessAnalytics\\notebooks\\..\\data\\raw\\telegram_images\\2025-07-11\\CheMed123\\photo_2023-01-13_09-44-14.jpg: 640x640 5 bottles, 134.5ms\n",
      "Speed: 7.5ms preprocess, 134.5ms inference, 1.6ms postprocess per image at shape (1, 3, 640, 640)\n"
     ]
    },
    {
     "name": "stderr",
     "output_type": "stream",
     "text": [
      "Running YOLO:  32%|███▏      | 54/167 [00:12<00:18,  6.20it/s]"
     ]
    },
    {
     "name": "stdout",
     "output_type": "stream",
     "text": [
      "\n",
      "image 1/1 c:\\Users\\tsega\\TelegramMedicalBusinessAnalytics\\notebooks\\..\\data\\raw\\telegram_images\\2025-07-11\\CheMed123\\photo_2023-01-13_12-48-47.jpg: 640x640 3 bottles, 1 apple, 146.1ms\n",
      "Speed: 5.4ms preprocess, 146.1ms inference, 1.9ms postprocess per image at shape (1, 3, 640, 640)\n"
     ]
    },
    {
     "name": "stderr",
     "output_type": "stream",
     "text": [
      "Running YOLO:  33%|███▎      | 55/167 [00:12<00:18,  6.05it/s]"
     ]
    },
    {
     "name": "stdout",
     "output_type": "stream",
     "text": [
      "\n",
      "image 1/1 c:\\Users\\tsega\\TelegramMedicalBusinessAnalytics\\notebooks\\..\\data\\raw\\telegram_images\\2025-07-11\\CheMed123\\photo_2023-01-16_09-26-09.jpg: 640x640 (no detections), 132.6ms\n",
      "Speed: 3.9ms preprocess, 132.6ms inference, 0.9ms postprocess per image at shape (1, 3, 640, 640)\n"
     ]
    },
    {
     "name": "stderr",
     "output_type": "stream",
     "text": [
      "Running YOLO:  34%|███▎      | 56/167 [00:13<00:18,  6.16it/s]"
     ]
    },
    {
     "name": "stdout",
     "output_type": "stream",
     "text": [
      "\n",
      "image 1/1 c:\\Users\\tsega\\TelegramMedicalBusinessAnalytics\\notebooks\\..\\data\\raw\\telegram_images\\2025-07-11\\CheMed123\\photo_2023-01-16_10-13-42.jpg: 640x640 1 person, 1 refrigerator, 147.5ms\n",
      "Speed: 3.7ms preprocess, 147.5ms inference, 1.4ms postprocess per image at shape (1, 3, 640, 640)\n"
     ]
    },
    {
     "name": "stderr",
     "output_type": "stream",
     "text": [
      "Running YOLO:  34%|███▍      | 57/167 [00:13<00:18,  6.06it/s]"
     ]
    },
    {
     "name": "stdout",
     "output_type": "stream",
     "text": [
      "\n",
      "image 1/1 c:\\Users\\tsega\\TelegramMedicalBusinessAnalytics\\notebooks\\..\\data\\raw\\telegram_images\\2025-07-11\\CheMed123\\photo_2023-01-16_13-41-35.jpg: 640x640 1 parking meter, 131.0ms\n",
      "Speed: 5.4ms preprocess, 131.0ms inference, 3.0ms postprocess per image at shape (1, 3, 640, 640)\n"
     ]
    },
    {
     "name": "stderr",
     "output_type": "stream",
     "text": [
      "Running YOLO:  35%|███▍      | 58/167 [00:13<00:17,  6.12it/s]"
     ]
    },
    {
     "name": "stdout",
     "output_type": "stream",
     "text": [
      "\n",
      "image 1/1 c:\\Users\\tsega\\TelegramMedicalBusinessAnalytics\\notebooks\\..\\data\\raw\\telegram_images\\2025-07-11\\CheMed123\\photo_2023-01-17_08-43-12.jpg: 640x640 (no detections), 136.3ms\n",
      "Speed: 3.8ms preprocess, 136.3ms inference, 0.7ms postprocess per image at shape (1, 3, 640, 640)\n"
     ]
    },
    {
     "name": "stderr",
     "output_type": "stream",
     "text": [
      "Running YOLO:  35%|███▌      | 59/167 [00:13<00:17,  6.17it/s]"
     ]
    },
    {
     "name": "stdout",
     "output_type": "stream",
     "text": [
      "\n",
      "image 1/1 c:\\Users\\tsega\\TelegramMedicalBusinessAnalytics\\notebooks\\..\\data\\raw\\telegram_images\\2025-07-11\\CheMed123\\photo_2023-01-23_10-39-20.jpg: 640x640 1 book, 130.8ms\n",
      "Speed: 6.5ms preprocess, 130.8ms inference, 1.1ms postprocess per image at shape (1, 3, 640, 640)\n"
     ]
    },
    {
     "name": "stderr",
     "output_type": "stream",
     "text": [
      "Running YOLO:  36%|███▌      | 60/167 [00:13<00:17,  6.19it/s]"
     ]
    },
    {
     "name": "stdout",
     "output_type": "stream",
     "text": [
      "\n",
      "image 1/1 c:\\Users\\tsega\\TelegramMedicalBusinessAnalytics\\notebooks\\..\\data\\raw\\telegram_images\\2025-07-11\\CheMed123\\photo_2023-01-26_18-27-53.jpg: 640x640 (no detections), 177.5ms\n",
      "Speed: 6.5ms preprocess, 177.5ms inference, 0.7ms postprocess per image at shape (1, 3, 640, 640)\n"
     ]
    },
    {
     "name": "stderr",
     "output_type": "stream",
     "text": [
      "Running YOLO:  37%|███▋      | 61/167 [00:13<00:18,  5.78it/s]"
     ]
    },
    {
     "name": "stdout",
     "output_type": "stream",
     "text": [
      "\n",
      "image 1/1 c:\\Users\\tsega\\TelegramMedicalBusinessAnalytics\\notebooks\\..\\data\\raw\\telegram_images\\2025-07-11\\CheMed123\\photo_2023-01-27_07-18-40.jpg: 640x640 (no detections), 126.3ms\n",
      "Speed: 4.4ms preprocess, 126.3ms inference, 0.7ms postprocess per image at shape (1, 3, 640, 640)\n"
     ]
    },
    {
     "name": "stderr",
     "output_type": "stream",
     "text": [
      "Running YOLO:  37%|███▋      | 62/167 [00:14<00:17,  6.04it/s]"
     ]
    },
    {
     "name": "stdout",
     "output_type": "stream",
     "text": [
      "\n",
      "image 1/1 c:\\Users\\tsega\\TelegramMedicalBusinessAnalytics\\notebooks\\..\\data\\raw\\telegram_images\\2025-07-11\\CheMed123\\photo_2023-01-30_09-45-25.jpg: 640x640 1 person, 130.2ms\n",
      "Speed: 3.7ms preprocess, 130.2ms inference, 1.4ms postprocess per image at shape (1, 3, 640, 640)\n"
     ]
    },
    {
     "name": "stderr",
     "output_type": "stream",
     "text": [
      "Running YOLO:  38%|███▊      | 63/167 [00:14<00:16,  6.19it/s]"
     ]
    },
    {
     "name": "stdout",
     "output_type": "stream",
     "text": [
      "\n",
      "image 1/1 c:\\Users\\tsega\\TelegramMedicalBusinessAnalytics\\notebooks\\..\\data\\raw\\telegram_images\\2025-07-11\\CheMed123\\photo_2023-01-31_09-19-53.jpg: 640x640 1 person, 2 cups, 159.3ms\n",
      "Speed: 5.9ms preprocess, 159.3ms inference, 1.7ms postprocess per image at shape (1, 3, 640, 640)\n"
     ]
    },
    {
     "name": "stderr",
     "output_type": "stream",
     "text": [
      "Running YOLO:  38%|███▊      | 64/167 [00:14<00:17,  5.83it/s]"
     ]
    },
    {
     "name": "stdout",
     "output_type": "stream",
     "text": [
      "\n",
      "image 1/1 c:\\Users\\tsega\\TelegramMedicalBusinessAnalytics\\notebooks\\..\\data\\raw\\telegram_images\\2025-07-11\\CheMed123\\photo_2023-02-01_08-59-37.jpg: 640x640 2 persons, 176.3ms\n",
      "Speed: 10.5ms preprocess, 176.3ms inference, 2.3ms postprocess per image at shape (1, 3, 640, 640)\n"
     ]
    },
    {
     "name": "stderr",
     "output_type": "stream",
     "text": [
      "Running YOLO:  39%|███▉      | 65/167 [00:14<00:18,  5.37it/s]"
     ]
    },
    {
     "name": "stdout",
     "output_type": "stream",
     "text": [
      "\n",
      "image 1/1 c:\\Users\\tsega\\TelegramMedicalBusinessAnalytics\\notebooks\\..\\data\\raw\\telegram_images\\2025-07-11\\CheMed123\\photo_2023-02-02_08-58-52.jpg: 640x640 1 cup, 141.5ms\n",
      "Speed: 10.7ms preprocess, 141.5ms inference, 2.6ms postprocess per image at shape (1, 3, 640, 640)\n"
     ]
    },
    {
     "name": "stderr",
     "output_type": "stream",
     "text": [
      "Running YOLO:  40%|███▉      | 66/167 [00:14<00:18,  5.41it/s]"
     ]
    },
    {
     "name": "stdout",
     "output_type": "stream",
     "text": [
      "\n",
      "image 1/1 c:\\Users\\tsega\\TelegramMedicalBusinessAnalytics\\notebooks\\..\\data\\raw\\telegram_images\\2025-07-11\\CheMed123\\photo_2023-02-10_12-23-06.jpg: 640x640 (no detections), 137.4ms\n",
      "Speed: 4.2ms preprocess, 137.4ms inference, 0.8ms postprocess per image at shape (1, 3, 640, 640)\n"
     ]
    },
    {
     "name": "stderr",
     "output_type": "stream",
     "text": [
      "Running YOLO:  40%|████      | 67/167 [00:15<00:17,  5.62it/s]"
     ]
    },
    {
     "name": "stdout",
     "output_type": "stream",
     "text": [
      "\n",
      "image 1/1 c:\\Users\\tsega\\TelegramMedicalBusinessAnalytics\\notebooks\\..\\data\\raw\\telegram_images\\2025-07-11\\lobelia4cosmetics\\photo_2025-07-07_10-02-49.jpg: 640x448 1 stop sign, 130.6ms\n",
      "Speed: 1.4ms preprocess, 130.6ms inference, 1.6ms postprocess per image at shape (1, 3, 640, 448)\n"
     ]
    },
    {
     "name": "stderr",
     "output_type": "stream",
     "text": [
      "Running YOLO:  41%|████      | 68/167 [00:15<00:16,  5.97it/s]"
     ]
    },
    {
     "name": "stdout",
     "output_type": "stream",
     "text": [
      "\n",
      "image 1/1 c:\\Users\\tsega\\TelegramMedicalBusinessAnalytics\\notebooks\\..\\data\\raw\\telegram_images\\2025-07-11\\lobelia4cosmetics\\photo_2025-07-07_10-02-50 (1).jpg: 640x640 1 bottle, 153.6ms\n",
      "Speed: 4.7ms preprocess, 153.6ms inference, 2.0ms postprocess per image at shape (1, 3, 640, 640)\n"
     ]
    },
    {
     "name": "stderr",
     "output_type": "stream",
     "text": [
      "Running YOLO:  41%|████▏     | 69/167 [00:15<00:16,  5.90it/s]"
     ]
    },
    {
     "name": "stdout",
     "output_type": "stream",
     "text": [
      "\n",
      "image 1/1 c:\\Users\\tsega\\TelegramMedicalBusinessAnalytics\\notebooks\\..\\data\\raw\\telegram_images\\2025-07-11\\lobelia4cosmetics\\photo_2025-07-07_10-02-50 (2).jpg: 640x640 (no detections), 159.1ms\n",
      "Speed: 4.2ms preprocess, 159.1ms inference, 1.2ms postprocess per image at shape (1, 3, 640, 640)\n"
     ]
    },
    {
     "name": "stderr",
     "output_type": "stream",
     "text": [
      "Running YOLO:  42%|████▏     | 70/167 [00:15<00:16,  5.71it/s]"
     ]
    },
    {
     "name": "stdout",
     "output_type": "stream",
     "text": [
      "\n",
      "image 1/1 c:\\Users\\tsega\\TelegramMedicalBusinessAnalytics\\notebooks\\..\\data\\raw\\telegram_images\\2025-07-11\\lobelia4cosmetics\\photo_2025-07-07_10-02-50 (3).jpg: 640x640 (no detections), 143.3ms\n",
      "Speed: 6.0ms preprocess, 143.3ms inference, 2.2ms postprocess per image at shape (1, 3, 640, 640)\n"
     ]
    },
    {
     "name": "stderr",
     "output_type": "stream",
     "text": [
      "Running YOLO:  43%|████▎     | 71/167 [00:15<00:16,  5.82it/s]"
     ]
    },
    {
     "name": "stdout",
     "output_type": "stream",
     "text": [
      "\n",
      "image 1/1 c:\\Users\\tsega\\TelegramMedicalBusinessAnalytics\\notebooks\\..\\data\\raw\\telegram_images\\2025-07-11\\lobelia4cosmetics\\photo_2025-07-07_10-02-50 (4).jpg: 640x640 (no detections), 135.6ms\n",
      "Speed: 5.2ms preprocess, 135.6ms inference, 1.3ms postprocess per image at shape (1, 3, 640, 640)\n"
     ]
    },
    {
     "name": "stderr",
     "output_type": "stream",
     "text": [
      "Running YOLO:  43%|████▎     | 72/167 [00:15<00:16,  5.91it/s]"
     ]
    },
    {
     "name": "stdout",
     "output_type": "stream",
     "text": [
      "\n",
      "image 1/1 c:\\Users\\tsega\\TelegramMedicalBusinessAnalytics\\notebooks\\..\\data\\raw\\telegram_images\\2025-07-11\\lobelia4cosmetics\\photo_2025-07-07_10-02-50 (5).jpg: 640x640 1 remote, 1 scissors, 149.3ms\n",
      "Speed: 3.6ms preprocess, 149.3ms inference, 1.4ms postprocess per image at shape (1, 3, 640, 640)\n"
     ]
    },
    {
     "name": "stderr",
     "output_type": "stream",
     "text": [
      "Running YOLO:  44%|████▎     | 73/167 [00:16<00:15,  5.94it/s]"
     ]
    },
    {
     "name": "stdout",
     "output_type": "stream",
     "text": [
      "\n",
      "image 1/1 c:\\Users\\tsega\\TelegramMedicalBusinessAnalytics\\notebooks\\..\\data\\raw\\telegram_images\\2025-07-11\\lobelia4cosmetics\\photo_2025-07-07_10-02-50 (6).jpg: 640x640 (no detections), 143.8ms\n",
      "Speed: 3.5ms preprocess, 143.8ms inference, 1.0ms postprocess per image at shape (1, 3, 640, 640)\n"
     ]
    },
    {
     "name": "stderr",
     "output_type": "stream",
     "text": [
      "Running YOLO:  44%|████▍     | 74/167 [00:16<00:15,  6.06it/s]"
     ]
    },
    {
     "name": "stdout",
     "output_type": "stream",
     "text": [
      "\n",
      "image 1/1 c:\\Users\\tsega\\TelegramMedicalBusinessAnalytics\\notebooks\\..\\data\\raw\\telegram_images\\2025-07-11\\lobelia4cosmetics\\photo_2025-07-07_10-02-50 (7).jpg: 512x640 (no detections), 146.6ms\n",
      "Speed: 2.9ms preprocess, 146.6ms inference, 0.6ms postprocess per image at shape (1, 3, 512, 640)\n"
     ]
    },
    {
     "name": "stderr",
     "output_type": "stream",
     "text": [
      "Running YOLO:  45%|████▍     | 75/167 [00:16<00:15,  6.04it/s]"
     ]
    },
    {
     "name": "stdout",
     "output_type": "stream",
     "text": [
      "\n",
      "image 1/1 c:\\Users\\tsega\\TelegramMedicalBusinessAnalytics\\notebooks\\..\\data\\raw\\telegram_images\\2025-07-11\\lobelia4cosmetics\\photo_2025-07-07_10-02-50.jpg: 640x640 1 bottle, 135.1ms\n",
      "Speed: 4.2ms preprocess, 135.1ms inference, 1.4ms postprocess per image at shape (1, 3, 640, 640)\n"
     ]
    },
    {
     "name": "stderr",
     "output_type": "stream",
     "text": [
      "Running YOLO:  46%|████▌     | 76/167 [00:16<00:14,  6.21it/s]"
     ]
    },
    {
     "name": "stdout",
     "output_type": "stream",
     "text": [
      "\n",
      "image 1/1 c:\\Users\\tsega\\TelegramMedicalBusinessAnalytics\\notebooks\\..\\data\\raw\\telegram_images\\2025-07-11\\lobelia4cosmetics\\photo_2025-07-08_06-17-42 (1).jpg: 480x640 (no detections), 115.1ms\n",
      "Speed: 1.7ms preprocess, 115.1ms inference, 0.9ms postprocess per image at shape (1, 3, 480, 640)\n"
     ]
    },
    {
     "name": "stderr",
     "output_type": "stream",
     "text": [
      "Running YOLO:  46%|████▌     | 77/167 [00:16<00:13,  6.54it/s]"
     ]
    },
    {
     "name": "stdout",
     "output_type": "stream",
     "text": [
      "\n",
      "image 1/1 c:\\Users\\tsega\\TelegramMedicalBusinessAnalytics\\notebooks\\..\\data\\raw\\telegram_images\\2025-07-11\\lobelia4cosmetics\\photo_2025-07-08_06-17-42 (10).jpg: 640x640 1 bottle, 196.9ms\n",
      "Speed: 5.2ms preprocess, 196.9ms inference, 2.0ms postprocess per image at shape (1, 3, 640, 640)\n"
     ]
    },
    {
     "name": "stderr",
     "output_type": "stream",
     "text": [
      "Running YOLO:  47%|████▋     | 78/167 [00:16<00:15,  5.80it/s]"
     ]
    },
    {
     "name": "stdout",
     "output_type": "stream",
     "text": [
      "\n",
      "image 1/1 c:\\Users\\tsega\\TelegramMedicalBusinessAnalytics\\notebooks\\..\\data\\raw\\telegram_images\\2025-07-11\\lobelia4cosmetics\\photo_2025-07-08_06-17-42 (11).jpg: 640x640 (no detections), 145.2ms\n",
      "Speed: 4.4ms preprocess, 145.2ms inference, 1.3ms postprocess per image at shape (1, 3, 640, 640)\n"
     ]
    },
    {
     "name": "stderr",
     "output_type": "stream",
     "text": [
      "Running YOLO:  47%|████▋     | 79/167 [00:17<00:14,  5.91it/s]"
     ]
    },
    {
     "name": "stdout",
     "output_type": "stream",
     "text": [
      "\n",
      "image 1/1 c:\\Users\\tsega\\TelegramMedicalBusinessAnalytics\\notebooks\\..\\data\\raw\\telegram_images\\2025-07-11\\lobelia4cosmetics\\photo_2025-07-08_06-17-42 (12).jpg: 640x640 (no detections), 134.7ms\n",
      "Speed: 5.8ms preprocess, 134.7ms inference, 1.3ms postprocess per image at shape (1, 3, 640, 640)\n"
     ]
    },
    {
     "name": "stderr",
     "output_type": "stream",
     "text": [
      "Running YOLO:  48%|████▊     | 80/167 [00:17<00:14,  6.13it/s]"
     ]
    },
    {
     "name": "stdout",
     "output_type": "stream",
     "text": [
      "\n",
      "image 1/1 c:\\Users\\tsega\\TelegramMedicalBusinessAnalytics\\notebooks\\..\\data\\raw\\telegram_images\\2025-07-11\\lobelia4cosmetics\\photo_2025-07-08_06-17-42 (13).jpg: 640x640 (no detections), 140.5ms\n",
      "Speed: 6.6ms preprocess, 140.5ms inference, 0.7ms postprocess per image at shape (1, 3, 640, 640)\n"
     ]
    },
    {
     "name": "stderr",
     "output_type": "stream",
     "text": [
      "Running YOLO:  49%|████▊     | 81/167 [00:17<00:13,  6.23it/s]"
     ]
    },
    {
     "name": "stdout",
     "output_type": "stream",
     "text": [
      "\n",
      "image 1/1 c:\\Users\\tsega\\TelegramMedicalBusinessAnalytics\\notebooks\\..\\data\\raw\\telegram_images\\2025-07-11\\lobelia4cosmetics\\photo_2025-07-08_06-17-42 (2).jpg: 640x640 1 bottle, 132.5ms\n",
      "Speed: 4.2ms preprocess, 132.5ms inference, 1.4ms postprocess per image at shape (1, 3, 640, 640)\n"
     ]
    },
    {
     "name": "stderr",
     "output_type": "stream",
     "text": [
      "Running YOLO:  49%|████▉     | 82/167 [00:17<00:13,  6.35it/s]"
     ]
    },
    {
     "name": "stdout",
     "output_type": "stream",
     "text": [
      "\n",
      "image 1/1 c:\\Users\\tsega\\TelegramMedicalBusinessAnalytics\\notebooks\\..\\data\\raw\\telegram_images\\2025-07-11\\lobelia4cosmetics\\photo_2025-07-08_06-17-42 (3).jpg: 640x640 (no detections), 133.7ms\n",
      "Speed: 4.0ms preprocess, 133.7ms inference, 1.1ms postprocess per image at shape (1, 3, 640, 640)\n"
     ]
    },
    {
     "name": "stderr",
     "output_type": "stream",
     "text": [
      "Running YOLO:  50%|████▉     | 83/167 [00:17<00:13,  6.45it/s]"
     ]
    },
    {
     "name": "stdout",
     "output_type": "stream",
     "text": [
      "\n",
      "image 1/1 c:\\Users\\tsega\\TelegramMedicalBusinessAnalytics\\notebooks\\..\\data\\raw\\telegram_images\\2025-07-11\\lobelia4cosmetics\\photo_2025-07-08_06-17-42 (4).jpg: 640x640 1 bottle, 130.8ms\n",
      "Speed: 4.2ms preprocess, 130.8ms inference, 1.6ms postprocess per image at shape (1, 3, 640, 640)\n"
     ]
    },
    {
     "name": "stderr",
     "output_type": "stream",
     "text": [
      "Running YOLO:  50%|█████     | 84/167 [00:17<00:12,  6.54it/s]"
     ]
    },
    {
     "name": "stdout",
     "output_type": "stream",
     "text": [
      "\n",
      "image 1/1 c:\\Users\\tsega\\TelegramMedicalBusinessAnalytics\\notebooks\\..\\data\\raw\\telegram_images\\2025-07-11\\lobelia4cosmetics\\photo_2025-07-08_06-17-42 (5).jpg: 640x640 (no detections), 142.7ms\n",
      "Speed: 6.2ms preprocess, 142.7ms inference, 1.0ms postprocess per image at shape (1, 3, 640, 640)\n"
     ]
    },
    {
     "name": "stderr",
     "output_type": "stream",
     "text": [
      "Running YOLO:  51%|█████     | 85/167 [00:17<00:12,  6.34it/s]"
     ]
    },
    {
     "name": "stdout",
     "output_type": "stream",
     "text": [
      "\n",
      "image 1/1 c:\\Users\\tsega\\TelegramMedicalBusinessAnalytics\\notebooks\\..\\data\\raw\\telegram_images\\2025-07-11\\lobelia4cosmetics\\photo_2025-07-08_06-17-42 (6).jpg: 640x480 1 bottle, 113.9ms\n",
      "Speed: 1.8ms preprocess, 113.9ms inference, 1.0ms postprocess per image at shape (1, 3, 640, 480)\n"
     ]
    },
    {
     "name": "stderr",
     "output_type": "stream",
     "text": [
      "Running YOLO:  51%|█████▏    | 86/167 [00:18<00:12,  6.60it/s]"
     ]
    },
    {
     "name": "stdout",
     "output_type": "stream",
     "text": [
      "\n",
      "image 1/1 c:\\Users\\tsega\\TelegramMedicalBusinessAnalytics\\notebooks\\..\\data\\raw\\telegram_images\\2025-07-11\\lobelia4cosmetics\\photo_2025-07-08_06-17-42 (7).jpg: 640x480 1 cup, 105.5ms\n",
      "Speed: 2.3ms preprocess, 105.5ms inference, 1.1ms postprocess per image at shape (1, 3, 640, 480)\n"
     ]
    },
    {
     "name": "stderr",
     "output_type": "stream",
     "text": [
      "Running YOLO:  52%|█████▏    | 87/167 [00:18<00:11,  6.91it/s]"
     ]
    },
    {
     "name": "stdout",
     "output_type": "stream",
     "text": [
      "\n",
      "image 1/1 c:\\Users\\tsega\\TelegramMedicalBusinessAnalytics\\notebooks\\..\\data\\raw\\telegram_images\\2025-07-11\\lobelia4cosmetics\\photo_2025-07-08_06-17-42 (8).jpg: 640x448 1 orange, 1 book, 99.3ms\n",
      "Speed: 1.6ms preprocess, 99.3ms inference, 0.9ms postprocess per image at shape (1, 3, 640, 448)\n"
     ]
    },
    {
     "name": "stderr",
     "output_type": "stream",
     "text": [
      "Running YOLO:  53%|█████▎    | 88/167 [00:18<00:10,  7.37it/s]"
     ]
    },
    {
     "name": "stdout",
     "output_type": "stream",
     "text": [
      "\n",
      "image 1/1 c:\\Users\\tsega\\TelegramMedicalBusinessAnalytics\\notebooks\\..\\data\\raw\\telegram_images\\2025-07-11\\lobelia4cosmetics\\photo_2025-07-08_06-17-42 (9).jpg: 640x640 (no detections), 124.6ms\n",
      "Speed: 4.7ms preprocess, 124.6ms inference, 0.7ms postprocess per image at shape (1, 3, 640, 640)\n"
     ]
    },
    {
     "name": "stderr",
     "output_type": "stream",
     "text": [
      "Running YOLO:  53%|█████▎    | 89/167 [00:18<00:11,  6.70it/s]"
     ]
    },
    {
     "name": "stdout",
     "output_type": "stream",
     "text": [
      "\n",
      "image 1/1 c:\\Users\\tsega\\TelegramMedicalBusinessAnalytics\\notebooks\\..\\data\\raw\\telegram_images\\2025-07-11\\lobelia4cosmetics\\photo_2025-07-08_06-17-42.jpg: 640x640 1 bottle, 125.3ms\n",
      "Speed: 6.7ms preprocess, 125.3ms inference, 1.2ms postprocess per image at shape (1, 3, 640, 640)\n"
     ]
    },
    {
     "name": "stderr",
     "output_type": "stream",
     "text": [
      "Running YOLO:  54%|█████▍    | 90/167 [00:18<00:11,  6.73it/s]"
     ]
    },
    {
     "name": "stdout",
     "output_type": "stream",
     "text": [
      "\n",
      "image 1/1 c:\\Users\\tsega\\TelegramMedicalBusinessAnalytics\\notebooks\\..\\data\\raw\\telegram_images\\2025-07-11\\lobelia4cosmetics\\photo_2025-07-08_06-17-43 (1).jpg: 640x640 (no detections), 137.2ms\n",
      "Speed: 5.5ms preprocess, 137.2ms inference, 0.7ms postprocess per image at shape (1, 3, 640, 640)\n"
     ]
    },
    {
     "name": "stderr",
     "output_type": "stream",
     "text": [
      "Running YOLO:  54%|█████▍    | 91/167 [00:18<00:11,  6.70it/s]"
     ]
    },
    {
     "name": "stdout",
     "output_type": "stream",
     "text": [
      "\n",
      "image 1/1 c:\\Users\\tsega\\TelegramMedicalBusinessAnalytics\\notebooks\\..\\data\\raw\\telegram_images\\2025-07-11\\lobelia4cosmetics\\photo_2025-07-08_06-17-43.jpg: 640x640 1 bottle, 139.5ms\n",
      "Speed: 4.0ms preprocess, 139.5ms inference, 1.6ms postprocess per image at shape (1, 3, 640, 640)\n"
     ]
    },
    {
     "name": "stderr",
     "output_type": "stream",
     "text": [
      "Running YOLO:  55%|█████▌    | 92/167 [00:18<00:11,  6.64it/s]"
     ]
    },
    {
     "name": "stdout",
     "output_type": "stream",
     "text": [
      "\n",
      "image 1/1 c:\\Users\\tsega\\TelegramMedicalBusinessAnalytics\\notebooks\\..\\data\\raw\\telegram_images\\2025-07-11\\lobelia4cosmetics\\photo_2025-07-08_12-50-22 (1).jpg: 640x480 (no detections), 100.6ms\n",
      "Speed: 1.7ms preprocess, 100.6ms inference, 0.6ms postprocess per image at shape (1, 3, 640, 480)\n"
     ]
    },
    {
     "name": "stderr",
     "output_type": "stream",
     "text": [
      "Running YOLO:  56%|█████▌    | 93/167 [00:19<00:10,  7.07it/s]"
     ]
    },
    {
     "name": "stdout",
     "output_type": "stream",
     "text": [
      "\n",
      "image 1/1 c:\\Users\\tsega\\TelegramMedicalBusinessAnalytics\\notebooks\\..\\data\\raw\\telegram_images\\2025-07-11\\lobelia4cosmetics\\photo_2025-07-08_12-50-22 (2).jpg: 640x480 5 bottles, 107.9ms\n",
      "Speed: 1.9ms preprocess, 107.9ms inference, 1.1ms postprocess per image at shape (1, 3, 640, 480)\n"
     ]
    },
    {
     "name": "stderr",
     "output_type": "stream",
     "text": [
      "Running YOLO:  56%|█████▋    | 94/167 [00:19<00:10,  7.25it/s]"
     ]
    },
    {
     "name": "stdout",
     "output_type": "stream",
     "text": [
      "\n",
      "image 1/1 c:\\Users\\tsega\\TelegramMedicalBusinessAnalytics\\notebooks\\..\\data\\raw\\telegram_images\\2025-07-11\\lobelia4cosmetics\\photo_2025-07-08_12-50-22 (3).jpg: 640x480 4 bottles, 123.3ms\n",
      "Speed: 1.8ms preprocess, 123.3ms inference, 1.6ms postprocess per image at shape (1, 3, 640, 480)\n"
     ]
    },
    {
     "name": "stderr",
     "output_type": "stream",
     "text": [
      "Running YOLO:  57%|█████▋    | 95/167 [00:19<00:10,  7.12it/s]"
     ]
    },
    {
     "name": "stdout",
     "output_type": "stream",
     "text": [
      "\n",
      "image 1/1 c:\\Users\\tsega\\TelegramMedicalBusinessAnalytics\\notebooks\\..\\data\\raw\\telegram_images\\2025-07-11\\lobelia4cosmetics\\photo_2025-07-08_12-50-22 (4).jpg: 640x480 1 bottle, 103.8ms\n",
      "Speed: 2.0ms preprocess, 103.8ms inference, 1.0ms postprocess per image at shape (1, 3, 640, 480)\n"
     ]
    },
    {
     "name": "stderr",
     "output_type": "stream",
     "text": [
      "Running YOLO:  57%|█████▋    | 96/167 [00:19<00:09,  7.30it/s]"
     ]
    },
    {
     "name": "stdout",
     "output_type": "stream",
     "text": [
      "\n",
      "image 1/1 c:\\Users\\tsega\\TelegramMedicalBusinessAnalytics\\notebooks\\..\\data\\raw\\telegram_images\\2025-07-11\\lobelia4cosmetics\\photo_2025-07-08_12-50-22 (5).jpg: 640x480 2 bottles, 114.2ms\n",
      "Speed: 2.8ms preprocess, 114.2ms inference, 2.2ms postprocess per image at shape (1, 3, 640, 480)\n"
     ]
    },
    {
     "name": "stderr",
     "output_type": "stream",
     "text": [
      "Running YOLO:  58%|█████▊    | 97/167 [00:19<00:09,  7.31it/s]"
     ]
    },
    {
     "name": "stdout",
     "output_type": "stream",
     "text": [
      "\n",
      "image 1/1 c:\\Users\\tsega\\TelegramMedicalBusinessAnalytics\\notebooks\\..\\data\\raw\\telegram_images\\2025-07-11\\lobelia4cosmetics\\photo_2025-07-08_12-50-22 (6).jpg: 640x480 2 bottles, 104.6ms\n",
      "Speed: 1.7ms preprocess, 104.6ms inference, 0.9ms postprocess per image at shape (1, 3, 640, 480)\n"
     ]
    },
    {
     "name": "stderr",
     "output_type": "stream",
     "text": [
      "Running YOLO:  59%|█████▊    | 98/167 [00:19<00:09,  7.49it/s]"
     ]
    },
    {
     "name": "stdout",
     "output_type": "stream",
     "text": [
      "\n",
      "image 1/1 c:\\Users\\tsega\\TelegramMedicalBusinessAnalytics\\notebooks\\..\\data\\raw\\telegram_images\\2025-07-11\\lobelia4cosmetics\\photo_2025-07-08_12-50-22 (7).jpg: 640x640 (no detections), 133.4ms\n",
      "Speed: 3.2ms preprocess, 133.4ms inference, 0.7ms postprocess per image at shape (1, 3, 640, 640)\n"
     ]
    },
    {
     "name": "stderr",
     "output_type": "stream",
     "text": [
      "Running YOLO:  59%|█████▉    | 99/167 [00:19<00:09,  7.30it/s]"
     ]
    },
    {
     "name": "stdout",
     "output_type": "stream",
     "text": [
      "\n",
      "image 1/1 c:\\Users\\tsega\\TelegramMedicalBusinessAnalytics\\notebooks\\..\\data\\raw\\telegram_images\\2025-07-11\\lobelia4cosmetics\\photo_2025-07-08_12-50-22.jpg: 640x480 1 bottle, 109.7ms\n",
      "Speed: 2.1ms preprocess, 109.7ms inference, 0.9ms postprocess per image at shape (1, 3, 640, 480)\n"
     ]
    },
    {
     "name": "stderr",
     "output_type": "stream",
     "text": [
      "Running YOLO:  60%|█████▉    | 100/167 [00:20<00:09,  7.40it/s]"
     ]
    },
    {
     "name": "stdout",
     "output_type": "stream",
     "text": [
      "\n",
      "image 1/1 c:\\Users\\tsega\\TelegramMedicalBusinessAnalytics\\notebooks\\..\\data\\raw\\telegram_images\\2025-07-11\\lobelia4cosmetics\\photo_2025-07-08_12-50-23 (1).jpg: 640x480 (no detections), 105.4ms\n",
      "Speed: 1.8ms preprocess, 105.4ms inference, 1.6ms postprocess per image at shape (1, 3, 640, 480)\n"
     ]
    },
    {
     "name": "stderr",
     "output_type": "stream",
     "text": [
      "Running YOLO:  60%|██████    | 101/167 [00:20<00:08,  7.52it/s]"
     ]
    },
    {
     "name": "stdout",
     "output_type": "stream",
     "text": [
      "\n",
      "image 1/1 c:\\Users\\tsega\\TelegramMedicalBusinessAnalytics\\notebooks\\..\\data\\raw\\telegram_images\\2025-07-11\\lobelia4cosmetics\\photo_2025-07-08_12-50-23 (2).jpg: 640x480 1 bottle, 165.1ms\n",
      "Speed: 3.3ms preprocess, 165.1ms inference, 1.7ms postprocess per image at shape (1, 3, 640, 480)\n"
     ]
    },
    {
     "name": "stderr",
     "output_type": "stream",
     "text": [
      "Running YOLO:  61%|██████    | 102/167 [00:20<00:09,  6.71it/s]"
     ]
    },
    {
     "name": "stdout",
     "output_type": "stream",
     "text": [
      "\n",
      "image 1/1 c:\\Users\\tsega\\TelegramMedicalBusinessAnalytics\\notebooks\\..\\data\\raw\\telegram_images\\2025-07-11\\lobelia4cosmetics\\photo_2025-07-08_12-50-23 (3).jpg: 640x416 1 bottle, 110.6ms\n",
      "Speed: 2.3ms preprocess, 110.6ms inference, 0.8ms postprocess per image at shape (1, 3, 640, 416)\n"
     ]
    },
    {
     "name": "stderr",
     "output_type": "stream",
     "text": [
      "Running YOLO:  62%|██████▏   | 103/167 [00:20<00:09,  6.89it/s]"
     ]
    },
    {
     "name": "stdout",
     "output_type": "stream",
     "text": [
      "\n",
      "image 1/1 c:\\Users\\tsega\\TelegramMedicalBusinessAnalytics\\notebooks\\..\\data\\raw\\telegram_images\\2025-07-11\\lobelia4cosmetics\\photo_2025-07-08_12-50-23.jpg: 640x480 (no detections), 101.8ms\n",
      "Speed: 1.7ms preprocess, 101.8ms inference, 0.7ms postprocess per image at shape (1, 3, 640, 480)\n"
     ]
    },
    {
     "name": "stderr",
     "output_type": "stream",
     "text": [
      "Running YOLO:  62%|██████▏   | 104/167 [00:20<00:08,  7.24it/s]"
     ]
    },
    {
     "name": "stdout",
     "output_type": "stream",
     "text": [
      "\n",
      "image 1/1 c:\\Users\\tsega\\TelegramMedicalBusinessAnalytics\\notebooks\\..\\data\\raw\\telegram_images\\2025-07-11\\lobelia4cosmetics\\photo_2025-07-09_05-39-53 (1).jpg: 640x480 1 cup, 104.8ms\n",
      "Speed: 2.6ms preprocess, 104.8ms inference, 1.0ms postprocess per image at shape (1, 3, 640, 480)\n"
     ]
    },
    {
     "name": "stderr",
     "output_type": "stream",
     "text": [
      "Running YOLO:  63%|██████▎   | 105/167 [00:20<00:08,  7.32it/s]"
     ]
    },
    {
     "name": "stdout",
     "output_type": "stream",
     "text": [
      "\n",
      "image 1/1 c:\\Users\\tsega\\TelegramMedicalBusinessAnalytics\\notebooks\\..\\data\\raw\\telegram_images\\2025-07-11\\lobelia4cosmetics\\photo_2025-07-09_05-39-53 (10).jpg: 640x448 (no detections), 107.3ms\n",
      "Speed: 1.7ms preprocess, 107.3ms inference, 0.6ms postprocess per image at shape (1, 3, 640, 448)\n"
     ]
    },
    {
     "name": "stderr",
     "output_type": "stream",
     "text": [
      "Running YOLO:  63%|██████▎   | 106/167 [00:20<00:08,  7.49it/s]"
     ]
    },
    {
     "name": "stdout",
     "output_type": "stream",
     "text": [
      "\n",
      "image 1/1 c:\\Users\\tsega\\TelegramMedicalBusinessAnalytics\\notebooks\\..\\data\\raw\\telegram_images\\2025-07-11\\lobelia4cosmetics\\photo_2025-07-09_05-39-53 (11).jpg: 640x480 1 bottle, 1 tv, 1 refrigerator, 113.9ms\n",
      "Speed: 1.8ms preprocess, 113.9ms inference, 1.1ms postprocess per image at shape (1, 3, 640, 480)\n"
     ]
    },
    {
     "name": "stderr",
     "output_type": "stream",
     "text": [
      "Running YOLO:  64%|██████▍   | 107/167 [00:20<00:08,  7.47it/s]"
     ]
    },
    {
     "name": "stdout",
     "output_type": "stream",
     "text": [
      "\n",
      "image 1/1 c:\\Users\\tsega\\TelegramMedicalBusinessAnalytics\\notebooks\\..\\data\\raw\\telegram_images\\2025-07-11\\lobelia4cosmetics\\photo_2025-07-09_05-39-53 (12).jpg: 640x640 1 book, 123.9ms\n",
      "Speed: 3.6ms preprocess, 123.9ms inference, 1.2ms postprocess per image at shape (1, 3, 640, 640)\n"
     ]
    },
    {
     "name": "stderr",
     "output_type": "stream",
     "text": [
      "Running YOLO:  65%|██████▍   | 108/167 [00:21<00:08,  7.25it/s]"
     ]
    },
    {
     "name": "stdout",
     "output_type": "stream",
     "text": [
      "\n",
      "image 1/1 c:\\Users\\tsega\\TelegramMedicalBusinessAnalytics\\notebooks\\..\\data\\raw\\telegram_images\\2025-07-11\\lobelia4cosmetics\\photo_2025-07-09_05-39-53 (13).jpg: 640x640 1 cell phone, 126.0ms\n",
      "Speed: 3.4ms preprocess, 126.0ms inference, 1.0ms postprocess per image at shape (1, 3, 640, 640)\n"
     ]
    },
    {
     "name": "stderr",
     "output_type": "stream",
     "text": [
      "Running YOLO:  65%|██████▌   | 109/167 [00:21<00:08,  7.25it/s]"
     ]
    },
    {
     "name": "stdout",
     "output_type": "stream",
     "text": [
      "\n",
      "image 1/1 c:\\Users\\tsega\\TelegramMedicalBusinessAnalytics\\notebooks\\..\\data\\raw\\telegram_images\\2025-07-11\\lobelia4cosmetics\\photo_2025-07-09_05-39-53 (14).jpg: 640x640 (no detections), 149.8ms\n",
      "Speed: 4.6ms preprocess, 149.8ms inference, 1.4ms postprocess per image at shape (1, 3, 640, 640)\n"
     ]
    },
    {
     "name": "stderr",
     "output_type": "stream",
     "text": [
      "Running YOLO:  66%|██████▌   | 110/167 [00:21<00:08,  6.84it/s]"
     ]
    },
    {
     "name": "stdout",
     "output_type": "stream",
     "text": [
      "\n",
      "image 1/1 c:\\Users\\tsega\\TelegramMedicalBusinessAnalytics\\notebooks\\..\\data\\raw\\telegram_images\\2025-07-11\\lobelia4cosmetics\\photo_2025-07-09_05-39-53 (2).jpg: 480x640 (no detections), 143.2ms\n",
      "Speed: 2.9ms preprocess, 143.2ms inference, 0.9ms postprocess per image at shape (1, 3, 480, 640)\n"
     ]
    },
    {
     "name": "stderr",
     "output_type": "stream",
     "text": [
      "Running YOLO:  66%|██████▋   | 111/167 [00:21<00:08,  6.57it/s]"
     ]
    },
    {
     "name": "stdout",
     "output_type": "stream",
     "text": [
      "\n",
      "image 1/1 c:\\Users\\tsega\\TelegramMedicalBusinessAnalytics\\notebooks\\..\\data\\raw\\telegram_images\\2025-07-11\\lobelia4cosmetics\\photo_2025-07-09_05-39-53 (3).jpg: 544x640 1 clock, 1 scissors, 135.0ms\n",
      "Speed: 7.0ms preprocess, 135.0ms inference, 2.1ms postprocess per image at shape (1, 3, 544, 640)\n"
     ]
    },
    {
     "name": "stderr",
     "output_type": "stream",
     "text": [
      "Running YOLO:  67%|██████▋   | 112/167 [00:21<00:08,  6.35it/s]"
     ]
    },
    {
     "name": "stdout",
     "output_type": "stream",
     "text": [
      "\n",
      "image 1/1 c:\\Users\\tsega\\TelegramMedicalBusinessAnalytics\\notebooks\\..\\data\\raw\\telegram_images\\2025-07-11\\lobelia4cosmetics\\photo_2025-07-09_05-39-53 (4).jpg: 640x640 1 person, 162.2ms\n",
      "Speed: 4.2ms preprocess, 162.2ms inference, 1.4ms postprocess per image at shape (1, 3, 640, 640)\n"
     ]
    },
    {
     "name": "stderr",
     "output_type": "stream",
     "text": [
      "Running YOLO:  68%|██████▊   | 113/167 [00:21<00:08,  6.07it/s]"
     ]
    },
    {
     "name": "stdout",
     "output_type": "stream",
     "text": [
      "\n",
      "image 1/1 c:\\Users\\tsega\\TelegramMedicalBusinessAnalytics\\notebooks\\..\\data\\raw\\telegram_images\\2025-07-11\\lobelia4cosmetics\\photo_2025-07-09_05-39-53 (5).jpg: 640x480 1 bottle, 1 vase, 117.4ms\n",
      "Speed: 1.7ms preprocess, 117.4ms inference, 1.2ms postprocess per image at shape (1, 3, 640, 480)\n"
     ]
    },
    {
     "name": "stderr",
     "output_type": "stream",
     "text": [
      "Running YOLO:  68%|██████▊   | 114/167 [00:22<00:08,  6.38it/s]"
     ]
    },
    {
     "name": "stdout",
     "output_type": "stream",
     "text": [
      "\n",
      "image 1/1 c:\\Users\\tsega\\TelegramMedicalBusinessAnalytics\\notebooks\\..\\data\\raw\\telegram_images\\2025-07-11\\lobelia4cosmetics\\photo_2025-07-09_05-39-53 (6).jpg: 640x640 (no detections), 145.2ms\n",
      "Speed: 4.2ms preprocess, 145.2ms inference, 1.0ms postprocess per image at shape (1, 3, 640, 640)\n"
     ]
    },
    {
     "name": "stderr",
     "output_type": "stream",
     "text": [
      "Running YOLO:  69%|██████▉   | 115/167 [00:22<00:08,  6.35it/s]"
     ]
    },
    {
     "name": "stdout",
     "output_type": "stream",
     "text": [
      "\n",
      "image 1/1 c:\\Users\\tsega\\TelegramMedicalBusinessAnalytics\\notebooks\\..\\data\\raw\\telegram_images\\2025-07-11\\lobelia4cosmetics\\photo_2025-07-09_05-39-53 (7).jpg: 640x640 (no detections), 126.0ms\n",
      "Speed: 6.6ms preprocess, 126.0ms inference, 1.8ms postprocess per image at shape (1, 3, 640, 640)\n"
     ]
    },
    {
     "name": "stderr",
     "output_type": "stream",
     "text": [
      "Running YOLO:  69%|██████▉   | 116/167 [00:22<00:07,  6.52it/s]"
     ]
    },
    {
     "name": "stdout",
     "output_type": "stream",
     "text": [
      "\n",
      "image 1/1 c:\\Users\\tsega\\TelegramMedicalBusinessAnalytics\\notebooks\\..\\data\\raw\\telegram_images\\2025-07-11\\lobelia4cosmetics\\photo_2025-07-09_05-39-53 (8).jpg: 640x640 (no detections), 133.1ms\n",
      "Speed: 4.3ms preprocess, 133.1ms inference, 0.9ms postprocess per image at shape (1, 3, 640, 640)\n"
     ]
    },
    {
     "name": "stderr",
     "output_type": "stream",
     "text": [
      "Running YOLO:  70%|███████   | 117/167 [00:22<00:07,  6.45it/s]"
     ]
    },
    {
     "name": "stdout",
     "output_type": "stream",
     "text": [
      "\n",
      "image 1/1 c:\\Users\\tsega\\TelegramMedicalBusinessAnalytics\\notebooks\\..\\data\\raw\\telegram_images\\2025-07-11\\lobelia4cosmetics\\photo_2025-07-09_05-39-53 (9).jpg: 640x640 (no detections), 132.5ms\n",
      "Speed: 4.1ms preprocess, 132.5ms inference, 0.6ms postprocess per image at shape (1, 3, 640, 640)\n"
     ]
    },
    {
     "name": "stderr",
     "output_type": "stream",
     "text": [
      "Running YOLO:  71%|███████   | 118/167 [00:22<00:07,  6.56it/s]"
     ]
    },
    {
     "name": "stdout",
     "output_type": "stream",
     "text": [
      "\n",
      "image 1/1 c:\\Users\\tsega\\TelegramMedicalBusinessAnalytics\\notebooks\\..\\data\\raw\\telegram_images\\2025-07-11\\lobelia4cosmetics\\photo_2025-07-09_05-39-53.jpg: 640x640 (no detections), 184.5ms\n",
      "Speed: 4.5ms preprocess, 184.5ms inference, 1.4ms postprocess per image at shape (1, 3, 640, 640)\n"
     ]
    },
    {
     "name": "stderr",
     "output_type": "stream",
     "text": [
      "Running YOLO:  71%|███████▏  | 119/167 [00:22<00:07,  6.05it/s]"
     ]
    },
    {
     "name": "stdout",
     "output_type": "stream",
     "text": [
      "\n",
      "image 1/1 c:\\Users\\tsega\\TelegramMedicalBusinessAnalytics\\notebooks\\..\\data\\raw\\telegram_images\\2025-07-11\\lobelia4cosmetics\\photo_2025-07-09_05-39-54 (1).jpg: 512x640 (no detections), 120.7ms\n",
      "Speed: 2.8ms preprocess, 120.7ms inference, 0.9ms postprocess per image at shape (1, 3, 512, 640)\n"
     ]
    },
    {
     "name": "stderr",
     "output_type": "stream",
     "text": [
      "Running YOLO:  72%|███████▏  | 120/167 [00:23<00:07,  6.32it/s]"
     ]
    },
    {
     "name": "stdout",
     "output_type": "stream",
     "text": [
      "\n",
      "image 1/1 c:\\Users\\tsega\\TelegramMedicalBusinessAnalytics\\notebooks\\..\\data\\raw\\telegram_images\\2025-07-11\\lobelia4cosmetics\\photo_2025-07-09_05-39-54 (2).jpg: 640x448 1 stop sign, 104.9ms\n",
      "Speed: 1.4ms preprocess, 104.9ms inference, 0.8ms postprocess per image at shape (1, 3, 640, 448)\n"
     ]
    },
    {
     "name": "stderr",
     "output_type": "stream",
     "text": [
      "Running YOLO:  72%|███████▏  | 121/167 [00:23<00:06,  6.81it/s]"
     ]
    },
    {
     "name": "stdout",
     "output_type": "stream",
     "text": [
      "\n",
      "image 1/1 c:\\Users\\tsega\\TelegramMedicalBusinessAnalytics\\notebooks\\..\\data\\raw\\telegram_images\\2025-07-11\\lobelia4cosmetics\\photo_2025-07-09_05-39-54 (3).jpg: 640x640 (no detections), 166.2ms\n",
      "Speed: 5.4ms preprocess, 166.2ms inference, 1.5ms postprocess per image at shape (1, 3, 640, 640)\n"
     ]
    },
    {
     "name": "stderr",
     "output_type": "stream",
     "text": [
      "Running YOLO:  73%|███████▎  | 122/167 [00:23<00:07,  6.19it/s]"
     ]
    },
    {
     "name": "stdout",
     "output_type": "stream",
     "text": [
      "\n",
      "image 1/1 c:\\Users\\tsega\\TelegramMedicalBusinessAnalytics\\notebooks\\..\\data\\raw\\telegram_images\\2025-07-11\\lobelia4cosmetics\\photo_2025-07-09_05-39-54 (4).jpg: 640x512 1 person, 156.7ms\n",
      "Speed: 2.9ms preprocess, 156.7ms inference, 1.8ms postprocess per image at shape (1, 3, 640, 512)\n"
     ]
    },
    {
     "name": "stderr",
     "output_type": "stream",
     "text": [
      "Running YOLO:  74%|███████▎  | 123/167 [00:23<00:07,  5.72it/s]"
     ]
    },
    {
     "name": "stdout",
     "output_type": "stream",
     "text": [
      "\n",
      "image 1/1 c:\\Users\\tsega\\TelegramMedicalBusinessAnalytics\\notebooks\\..\\data\\raw\\telegram_images\\2025-07-11\\lobelia4cosmetics\\photo_2025-07-09_05-39-54.jpg: 640x640 (no detections), 126.3ms\n",
      "Speed: 3.2ms preprocess, 126.3ms inference, 0.8ms postprocess per image at shape (1, 3, 640, 640)\n"
     ]
    },
    {
     "name": "stderr",
     "output_type": "stream",
     "text": [
      "Running YOLO:  74%|███████▍  | 124/167 [00:23<00:07,  6.11it/s]"
     ]
    },
    {
     "name": "stdout",
     "output_type": "stream",
     "text": [
      "\n",
      "image 1/1 c:\\Users\\tsega\\TelegramMedicalBusinessAnalytics\\notebooks\\..\\data\\raw\\telegram_images\\2025-07-11\\lobelia4cosmetics\\photo_2025-07-09_13-08-51.jpg: 640x512 2 cups, 1 dining table, 108.9ms\n",
      "Speed: 2.9ms preprocess, 108.9ms inference, 1.9ms postprocess per image at shape (1, 3, 640, 512)\n"
     ]
    },
    {
     "name": "stderr",
     "output_type": "stream",
     "text": [
      "Running YOLO:  75%|███████▍  | 125/167 [00:23<00:06,  6.48it/s]"
     ]
    },
    {
     "name": "stdout",
     "output_type": "stream",
     "text": [
      "\n",
      "image 1/1 c:\\Users\\tsega\\TelegramMedicalBusinessAnalytics\\notebooks\\..\\data\\raw\\telegram_images\\2025-07-11\\lobelia4cosmetics\\photo_2025-07-10_05-42-07 (1).jpg: 640x640 1 bottle, 124.2ms\n",
      "Speed: 3.7ms preprocess, 124.2ms inference, 1.0ms postprocess per image at shape (1, 3, 640, 640)\n"
     ]
    },
    {
     "name": "stderr",
     "output_type": "stream",
     "text": [
      "Running YOLO:  75%|███████▌  | 126/167 [00:23<00:06,  6.69it/s]"
     ]
    },
    {
     "name": "stdout",
     "output_type": "stream",
     "text": [
      "\n",
      "image 1/1 c:\\Users\\tsega\\TelegramMedicalBusinessAnalytics\\notebooks\\..\\data\\raw\\telegram_images\\2025-07-11\\lobelia4cosmetics\\photo_2025-07-10_05-42-07 (2).jpg: 640x480 1 cup, 103.5ms\n",
      "Speed: 1.6ms preprocess, 103.5ms inference, 1.1ms postprocess per image at shape (1, 3, 640, 480)\n"
     ]
    },
    {
     "name": "stderr",
     "output_type": "stream",
     "text": [
      "Running YOLO:  76%|███████▌  | 127/167 [00:24<00:05,  7.03it/s]"
     ]
    },
    {
     "name": "stdout",
     "output_type": "stream",
     "text": [
      "\n",
      "image 1/1 c:\\Users\\tsega\\TelegramMedicalBusinessAnalytics\\notebooks\\..\\data\\raw\\telegram_images\\2025-07-11\\lobelia4cosmetics\\photo_2025-07-10_05-42-07.jpg: 640x480 1 bottle, 109.0ms\n",
      "Speed: 2.0ms preprocess, 109.0ms inference, 1.0ms postprocess per image at shape (1, 3, 640, 480)\n"
     ]
    },
    {
     "name": "stderr",
     "output_type": "stream",
     "text": [
      "Running YOLO:  77%|███████▋  | 128/167 [00:24<00:05,  7.16it/s]"
     ]
    },
    {
     "name": "stdout",
     "output_type": "stream",
     "text": [
      "\n",
      "image 1/1 c:\\Users\\tsega\\TelegramMedicalBusinessAnalytics\\notebooks\\..\\data\\raw\\telegram_images\\2025-07-11\\lobelia4cosmetics\\photo_2025-07-10_05-42-08 (1).jpg: 640x480 1 bottle, 112.7ms\n",
      "Speed: 2.0ms preprocess, 112.7ms inference, 1.9ms postprocess per image at shape (1, 3, 640, 480)\n"
     ]
    },
    {
     "name": "stderr",
     "output_type": "stream",
     "text": [
      "Running YOLO:  77%|███████▋  | 129/167 [00:24<00:05,  7.23it/s]"
     ]
    },
    {
     "name": "stdout",
     "output_type": "stream",
     "text": [
      "\n",
      "image 1/1 c:\\Users\\tsega\\TelegramMedicalBusinessAnalytics\\notebooks\\..\\data\\raw\\telegram_images\\2025-07-11\\lobelia4cosmetics\\photo_2025-07-10_05-42-08 (10).jpg: 640x640 1 refrigerator, 134.8ms\n",
      "Speed: 4.4ms preprocess, 134.8ms inference, 1.4ms postprocess per image at shape (1, 3, 640, 640)\n"
     ]
    },
    {
     "name": "stderr",
     "output_type": "stream",
     "text": [
      "Running YOLO:  78%|███████▊  | 130/167 [00:24<00:05,  6.83it/s]"
     ]
    },
    {
     "name": "stdout",
     "output_type": "stream",
     "text": [
      "\n",
      "image 1/1 c:\\Users\\tsega\\TelegramMedicalBusinessAnalytics\\notebooks\\..\\data\\raw\\telegram_images\\2025-07-11\\lobelia4cosmetics\\photo_2025-07-10_05-42-08 (11).jpg: 640x640 1 cell phone, 140.9ms\n",
      "Speed: 3.6ms preprocess, 140.9ms inference, 1.4ms postprocess per image at shape (1, 3, 640, 640)\n"
     ]
    },
    {
     "name": "stderr",
     "output_type": "stream",
     "text": [
      "Running YOLO:  78%|███████▊  | 131/167 [00:24<00:05,  6.73it/s]"
     ]
    },
    {
     "name": "stdout",
     "output_type": "stream",
     "text": [
      "\n",
      "image 1/1 c:\\Users\\tsega\\TelegramMedicalBusinessAnalytics\\notebooks\\..\\data\\raw\\telegram_images\\2025-07-11\\lobelia4cosmetics\\photo_2025-07-10_05-42-08 (2).jpg: 640x384 1 bottle, 102.0ms\n",
      "Speed: 1.9ms preprocess, 102.0ms inference, 1.3ms postprocess per image at shape (1, 3, 640, 384)\n"
     ]
    },
    {
     "name": "stderr",
     "output_type": "stream",
     "text": [
      "Running YOLO:  79%|███████▉  | 132/167 [00:24<00:04,  7.11it/s]"
     ]
    },
    {
     "name": "stdout",
     "output_type": "stream",
     "text": [
      "\n",
      "image 1/1 c:\\Users\\tsega\\TelegramMedicalBusinessAnalytics\\notebooks\\..\\data\\raw\\telegram_images\\2025-07-11\\lobelia4cosmetics\\photo_2025-07-10_05-42-08 (3).jpg: 640x640 (no detections), 158.3ms\n",
      "Speed: 3.4ms preprocess, 158.3ms inference, 3.1ms postprocess per image at shape (1, 3, 640, 640)\n"
     ]
    },
    {
     "name": "stderr",
     "output_type": "stream",
     "text": [
      "Running YOLO:  80%|███████▉  | 133/167 [00:24<00:05,  6.63it/s]"
     ]
    },
    {
     "name": "stdout",
     "output_type": "stream",
     "text": [
      "\n",
      "image 1/1 c:\\Users\\tsega\\TelegramMedicalBusinessAnalytics\\notebooks\\..\\data\\raw\\telegram_images\\2025-07-11\\lobelia4cosmetics\\photo_2025-07-10_05-42-08 (4).jpg: 480x640 (no detections), 97.7ms\n",
      "Speed: 3.2ms preprocess, 97.7ms inference, 0.5ms postprocess per image at shape (1, 3, 480, 640)\n"
     ]
    },
    {
     "name": "stderr",
     "output_type": "stream",
     "text": [
      "Running YOLO:  80%|████████  | 134/167 [00:25<00:04,  7.04it/s]"
     ]
    },
    {
     "name": "stdout",
     "output_type": "stream",
     "text": [
      "\n",
      "image 1/1 c:\\Users\\tsega\\TelegramMedicalBusinessAnalytics\\notebooks\\..\\data\\raw\\telegram_images\\2025-07-11\\lobelia4cosmetics\\photo_2025-07-10_05-42-08 (5).jpg: 640x448 1 orange, 1 book, 109.1ms\n",
      "Speed: 1.9ms preprocess, 109.1ms inference, 0.9ms postprocess per image at shape (1, 3, 640, 448)\n"
     ]
    },
    {
     "name": "stderr",
     "output_type": "stream",
     "text": [
      "Running YOLO:  81%|████████  | 135/167 [00:25<00:04,  7.30it/s]"
     ]
    },
    {
     "name": "stdout",
     "output_type": "stream",
     "text": [
      "\n",
      "image 1/1 c:\\Users\\tsega\\TelegramMedicalBusinessAnalytics\\notebooks\\..\\data\\raw\\telegram_images\\2025-07-11\\lobelia4cosmetics\\photo_2025-07-10_05-42-08 (6).jpg: 640x640 1 bottle, 175.8ms\n",
      "Speed: 3.4ms preprocess, 175.8ms inference, 1.0ms postprocess per image at shape (1, 3, 640, 640)\n"
     ]
    },
    {
     "name": "stderr",
     "output_type": "stream",
     "text": [
      "Running YOLO:  81%|████████▏ | 136/167 [00:25<00:04,  6.54it/s]"
     ]
    },
    {
     "name": "stdout",
     "output_type": "stream",
     "text": [
      "\n",
      "image 1/1 c:\\Users\\tsega\\TelegramMedicalBusinessAnalytics\\notebooks\\..\\data\\raw\\telegram_images\\2025-07-11\\lobelia4cosmetics\\photo_2025-07-10_05-42-08 (7).jpg: 640x640 (no detections), 119.3ms\n",
      "Speed: 5.3ms preprocess, 119.3ms inference, 0.6ms postprocess per image at shape (1, 3, 640, 640)\n"
     ]
    },
    {
     "name": "stderr",
     "output_type": "stream",
     "text": [
      "Running YOLO:  82%|████████▏ | 137/167 [00:25<00:04,  6.83it/s]"
     ]
    },
    {
     "name": "stdout",
     "output_type": "stream",
     "text": [
      "\n",
      "image 1/1 c:\\Users\\tsega\\TelegramMedicalBusinessAnalytics\\notebooks\\..\\data\\raw\\telegram_images\\2025-07-11\\lobelia4cosmetics\\photo_2025-07-10_05-42-08 (8).jpg: 640x640 1 bottle, 122.8ms\n",
      "Speed: 3.5ms preprocess, 122.8ms inference, 1.0ms postprocess per image at shape (1, 3, 640, 640)\n"
     ]
    },
    {
     "name": "stderr",
     "output_type": "stream",
     "text": [
      "Running YOLO:  83%|████████▎ | 138/167 [00:25<00:04,  7.01it/s]"
     ]
    },
    {
     "name": "stdout",
     "output_type": "stream",
     "text": [
      "\n",
      "image 1/1 c:\\Users\\tsega\\TelegramMedicalBusinessAnalytics\\notebooks\\..\\data\\raw\\telegram_images\\2025-07-11\\lobelia4cosmetics\\photo_2025-07-10_05-42-08 (9).jpg: 640x512 1 person, 102.4ms\n",
      "Speed: 1.7ms preprocess, 102.4ms inference, 1.0ms postprocess per image at shape (1, 3, 640, 512)\n"
     ]
    },
    {
     "name": "stderr",
     "output_type": "stream",
     "text": [
      "Running YOLO:  83%|████████▎ | 139/167 [00:25<00:03,  7.26it/s]"
     ]
    },
    {
     "name": "stdout",
     "output_type": "stream",
     "text": [
      "\n",
      "image 1/1 c:\\Users\\tsega\\TelegramMedicalBusinessAnalytics\\notebooks\\..\\data\\raw\\telegram_images\\2025-07-11\\lobelia4cosmetics\\photo_2025-07-10_05-42-08.jpg: 640x640 (no detections), 115.7ms\n",
      "Speed: 3.4ms preprocess, 115.7ms inference, 0.6ms postprocess per image at shape (1, 3, 640, 640)\n"
     ]
    },
    {
     "name": "stderr",
     "output_type": "stream",
     "text": [
      "Running YOLO:  84%|████████▍ | 140/167 [00:25<00:03,  7.44it/s]"
     ]
    },
    {
     "name": "stdout",
     "output_type": "stream",
     "text": [
      "\n",
      "image 1/1 c:\\Users\\tsega\\TelegramMedicalBusinessAnalytics\\notebooks\\..\\data\\raw\\telegram_images\\2025-07-11\\lobelia4cosmetics\\photo_2025-07-10_08-25-13 (1).jpg: 640x480 1 bottle, 106.8ms\n",
      "Speed: 1.8ms preprocess, 106.8ms inference, 1.9ms postprocess per image at shape (1, 3, 640, 480)\n"
     ]
    },
    {
     "name": "stderr",
     "output_type": "stream",
     "text": [
      "Running YOLO:  84%|████████▍ | 141/167 [00:26<00:03,  7.54it/s]"
     ]
    },
    {
     "name": "stdout",
     "output_type": "stream",
     "text": [
      "\n",
      "image 1/1 c:\\Users\\tsega\\TelegramMedicalBusinessAnalytics\\notebooks\\..\\data\\raw\\telegram_images\\2025-07-11\\lobelia4cosmetics\\photo_2025-07-10_08-25-13 (2).jpg: 640x480 2 bottles, 102.2ms\n",
      "Speed: 1.7ms preprocess, 102.2ms inference, 1.0ms postprocess per image at shape (1, 3, 640, 480)\n"
     ]
    },
    {
     "name": "stderr",
     "output_type": "stream",
     "text": [
      "Running YOLO:  85%|████████▌ | 142/167 [00:26<00:03,  7.70it/s]"
     ]
    },
    {
     "name": "stdout",
     "output_type": "stream",
     "text": [
      "\n",
      "image 1/1 c:\\Users\\tsega\\TelegramMedicalBusinessAnalytics\\notebooks\\..\\data\\raw\\telegram_images\\2025-07-11\\lobelia4cosmetics\\photo_2025-07-10_08-25-13 (3).jpg: 640x480 2 bottles, 105.6ms\n",
      "Speed: 1.5ms preprocess, 105.6ms inference, 1.7ms postprocess per image at shape (1, 3, 640, 480)\n"
     ]
    },
    {
     "name": "stderr",
     "output_type": "stream",
     "text": [
      "Running YOLO:  86%|████████▌ | 143/167 [00:26<00:03,  7.77it/s]"
     ]
    },
    {
     "name": "stdout",
     "output_type": "stream",
     "text": [
      "\n",
      "image 1/1 c:\\Users\\tsega\\TelegramMedicalBusinessAnalytics\\notebooks\\..\\data\\raw\\telegram_images\\2025-07-11\\lobelia4cosmetics\\photo_2025-07-10_08-25-13.jpg: 640x480 4 bottles, 106.1ms\n",
      "Speed: 1.6ms preprocess, 106.1ms inference, 1.1ms postprocess per image at shape (1, 3, 640, 480)\n"
     ]
    },
    {
     "name": "stderr",
     "output_type": "stream",
     "text": [
      "Running YOLO:  86%|████████▌ | 144/167 [00:26<00:02,  7.75it/s]"
     ]
    },
    {
     "name": "stdout",
     "output_type": "stream",
     "text": [
      "\n",
      "image 1/1 c:\\Users\\tsega\\TelegramMedicalBusinessAnalytics\\notebooks\\..\\data\\raw\\telegram_images\\2025-07-11\\lobelia4cosmetics\\photo_2025-07-10_08-25-14 (1).jpg: 640x480 5 bottles, 109.3ms\n",
      "Speed: 4.2ms preprocess, 109.3ms inference, 1.0ms postprocess per image at shape (1, 3, 640, 480)\n"
     ]
    },
    {
     "name": "stderr",
     "output_type": "stream",
     "text": [
      "Running YOLO:  87%|████████▋ | 145/167 [00:26<00:02,  7.66it/s]"
     ]
    },
    {
     "name": "stdout",
     "output_type": "stream",
     "text": [
      "\n",
      "image 1/1 c:\\Users\\tsega\\TelegramMedicalBusinessAnalytics\\notebooks\\..\\data\\raw\\telegram_images\\2025-07-11\\lobelia4cosmetics\\photo_2025-07-10_08-25-14.jpg: 640x480 1 bottle, 123.3ms\n",
      "Speed: 3.1ms preprocess, 123.3ms inference, 1.1ms postprocess per image at shape (1, 3, 640, 480)\n"
     ]
    },
    {
     "name": "stderr",
     "output_type": "stream",
     "text": [
      "Running YOLO:  87%|████████▋ | 146/167 [00:26<00:02,  7.48it/s]"
     ]
    },
    {
     "name": "stdout",
     "output_type": "stream",
     "text": [
      "\n",
      "image 1/1 c:\\Users\\tsega\\TelegramMedicalBusinessAnalytics\\notebooks\\..\\data\\raw\\telegram_images\\2025-07-11\\lobelia4cosmetics\\photo_2025-07-10_08-42-12 (1).jpg: 640x640 (no detections), 142.4ms\n",
      "Speed: 4.0ms preprocess, 142.4ms inference, 0.8ms postprocess per image at shape (1, 3, 640, 640)\n"
     ]
    },
    {
     "name": "stderr",
     "output_type": "stream",
     "text": [
      "Running YOLO:  88%|████████▊ | 147/167 [00:26<00:02,  7.06it/s]"
     ]
    },
    {
     "name": "stdout",
     "output_type": "stream",
     "text": [
      "\n",
      "image 1/1 c:\\Users\\tsega\\TelegramMedicalBusinessAnalytics\\notebooks\\..\\data\\raw\\telegram_images\\2025-07-11\\lobelia4cosmetics\\photo_2025-07-10_08-42-12 (2).jpg: 640x512 1 microwave, 110.0ms\n",
      "Speed: 1.8ms preprocess, 110.0ms inference, 1.0ms postprocess per image at shape (1, 3, 640, 512)\n"
     ]
    },
    {
     "name": "stderr",
     "output_type": "stream",
     "text": [
      "Running YOLO:  89%|████████▊ | 148/167 [00:26<00:02,  7.39it/s]"
     ]
    },
    {
     "name": "stdout",
     "output_type": "stream",
     "text": [
      "\n",
      "image 1/1 c:\\Users\\tsega\\TelegramMedicalBusinessAnalytics\\notebooks\\..\\data\\raw\\telegram_images\\2025-07-11\\lobelia4cosmetics\\photo_2025-07-10_08-42-12 (3).jpg: 640x640 (no detections), 130.2ms\n",
      "Speed: 4.6ms preprocess, 130.2ms inference, 0.6ms postprocess per image at shape (1, 3, 640, 640)\n"
     ]
    },
    {
     "name": "stderr",
     "output_type": "stream",
     "text": [
      "Running YOLO:  89%|████████▉ | 149/167 [00:27<00:02,  7.14it/s]"
     ]
    },
    {
     "name": "stdout",
     "output_type": "stream",
     "text": [
      "\n",
      "image 1/1 c:\\Users\\tsega\\TelegramMedicalBusinessAnalytics\\notebooks\\..\\data\\raw\\telegram_images\\2025-07-11\\lobelia4cosmetics\\photo_2025-07-10_08-42-12 (4).jpg: 640x640 1 book, 122.7ms\n",
      "Speed: 4.2ms preprocess, 122.7ms inference, 1.5ms postprocess per image at shape (1, 3, 640, 640)\n"
     ]
    },
    {
     "name": "stderr",
     "output_type": "stream",
     "text": [
      "Running YOLO:  90%|████████▉ | 150/167 [00:27<00:02,  7.14it/s]"
     ]
    },
    {
     "name": "stdout",
     "output_type": "stream",
     "text": [
      "\n",
      "image 1/1 c:\\Users\\tsega\\TelegramMedicalBusinessAnalytics\\notebooks\\..\\data\\raw\\telegram_images\\2025-07-11\\lobelia4cosmetics\\photo_2025-07-10_08-42-12 (5).jpg: 640x640 (no detections), 125.1ms\n",
      "Speed: 6.8ms preprocess, 125.1ms inference, 0.8ms postprocess per image at shape (1, 3, 640, 640)\n"
     ]
    },
    {
     "name": "stderr",
     "output_type": "stream",
     "text": [
      "Running YOLO:  90%|█████████ | 151/167 [00:27<00:02,  7.02it/s]"
     ]
    },
    {
     "name": "stdout",
     "output_type": "stream",
     "text": [
      "\n",
      "image 1/1 c:\\Users\\tsega\\TelegramMedicalBusinessAnalytics\\notebooks\\..\\data\\raw\\telegram_images\\2025-07-11\\lobelia4cosmetics\\photo_2025-07-10_08-42-12 (6).jpg: 640x640 1 remote, 1 scissors, 119.6ms\n",
      "Speed: 3.0ms preprocess, 119.6ms inference, 1.0ms postprocess per image at shape (1, 3, 640, 640)\n"
     ]
    },
    {
     "name": "stderr",
     "output_type": "stream",
     "text": [
      "Running YOLO:  91%|█████████ | 152/167 [00:27<00:02,  7.17it/s]"
     ]
    },
    {
     "name": "stdout",
     "output_type": "stream",
     "text": [
      "\n",
      "image 1/1 c:\\Users\\tsega\\TelegramMedicalBusinessAnalytics\\notebooks\\..\\data\\raw\\telegram_images\\2025-07-11\\lobelia4cosmetics\\photo_2025-07-10_08-42-12.jpg: 640x640 (no detections), 190.7ms\n",
      "Speed: 3.0ms preprocess, 190.7ms inference, 0.6ms postprocess per image at shape (1, 3, 640, 640)\n"
     ]
    },
    {
     "name": "stderr",
     "output_type": "stream",
     "text": [
      "Running YOLO:  92%|█████████▏| 153/167 [00:27<00:02,  6.29it/s]"
     ]
    },
    {
     "name": "stdout",
     "output_type": "stream",
     "text": [
      "\n",
      "image 1/1 c:\\Users\\tsega\\TelegramMedicalBusinessAnalytics\\notebooks\\..\\data\\raw\\telegram_images\\2025-07-11\\lobelia4cosmetics\\photo_2025-07-10_14-40-02 (1).jpg: 640x640 1 cell phone, 116.3ms\n",
      "Speed: 3.3ms preprocess, 116.3ms inference, 0.9ms postprocess per image at shape (1, 3, 640, 640)\n"
     ]
    },
    {
     "name": "stderr",
     "output_type": "stream",
     "text": [
      "Running YOLO:  92%|█████████▏| 154/167 [00:27<00:01,  6.68it/s]"
     ]
    },
    {
     "name": "stdout",
     "output_type": "stream",
     "text": [
      "\n",
      "image 1/1 c:\\Users\\tsega\\TelegramMedicalBusinessAnalytics\\notebooks\\..\\data\\raw\\telegram_images\\2025-07-11\\lobelia4cosmetics\\photo_2025-07-10_14-40-02.jpg: 640x640 1 book, 135.3ms\n",
      "Speed: 6.9ms preprocess, 135.3ms inference, 0.8ms postprocess per image at shape (1, 3, 640, 640)\n"
     ]
    },
    {
     "name": "stderr",
     "output_type": "stream",
     "text": [
      "Running YOLO:  93%|█████████▎| 155/167 [00:28<00:01,  6.51it/s]"
     ]
    },
    {
     "name": "stdout",
     "output_type": "stream",
     "text": [
      "\n",
      "image 1/1 c:\\Users\\tsega\\TelegramMedicalBusinessAnalytics\\notebooks\\..\\data\\raw\\telegram_images\\2025-07-11\\lobelia4cosmetics\\photo_2025-07-10_14-48-47.jpg: 640x640 (no detections), 118.4ms\n",
      "Speed: 5.7ms preprocess, 118.4ms inference, 0.6ms postprocess per image at shape (1, 3, 640, 640)\n"
     ]
    },
    {
     "name": "stderr",
     "output_type": "stream",
     "text": [
      "Running YOLO:  93%|█████████▎| 156/167 [00:28<00:01,  6.80it/s]"
     ]
    },
    {
     "name": "stdout",
     "output_type": "stream",
     "text": [
      "\n",
      "image 1/1 c:\\Users\\tsega\\TelegramMedicalBusinessAnalytics\\notebooks\\..\\data\\raw\\telegram_images\\2025-07-11\\lobelia4cosmetics\\photo_2025-07-10_14-50-22.jpg: 640x640 (no detections), 121.8ms\n",
      "Speed: 6.0ms preprocess, 121.8ms inference, 0.7ms postprocess per image at shape (1, 3, 640, 640)\n"
     ]
    },
    {
     "name": "stderr",
     "output_type": "stream",
     "text": [
      "Running YOLO:  94%|█████████▍| 157/167 [00:28<00:01,  6.97it/s]"
     ]
    },
    {
     "name": "stdout",
     "output_type": "stream",
     "text": [
      "\n",
      "image 1/1 c:\\Users\\tsega\\TelegramMedicalBusinessAnalytics\\notebooks\\..\\data\\raw\\telegram_images\\2025-07-11\\lobelia4cosmetics\\photo_2025-07-11_04-00-29 (1).jpg: 640x640 (no detections), 123.8ms\n",
      "Speed: 6.0ms preprocess, 123.8ms inference, 0.6ms postprocess per image at shape (1, 3, 640, 640)\n"
     ]
    },
    {
     "name": "stderr",
     "output_type": "stream",
     "text": [
      "Running YOLO:  95%|█████████▍| 158/167 [00:28<00:01,  6.85it/s]"
     ]
    },
    {
     "name": "stdout",
     "output_type": "stream",
     "text": [
      "\n",
      "image 1/1 c:\\Users\\tsega\\TelegramMedicalBusinessAnalytics\\notebooks\\..\\data\\raw\\telegram_images\\2025-07-11\\lobelia4cosmetics\\photo_2025-07-11_04-00-29 (2).jpg: 640x640 (no detections), 147.0ms\n",
      "Speed: 4.6ms preprocess, 147.0ms inference, 1.0ms postprocess per image at shape (1, 3, 640, 640)\n"
     ]
    },
    {
     "name": "stderr",
     "output_type": "stream",
     "text": [
      "Running YOLO:  95%|█████████▌| 159/167 [00:28<00:01,  6.12it/s]"
     ]
    },
    {
     "name": "stdout",
     "output_type": "stream",
     "text": [
      "\n",
      "image 1/1 c:\\Users\\tsega\\TelegramMedicalBusinessAnalytics\\notebooks\\..\\data\\raw\\telegram_images\\2025-07-11\\lobelia4cosmetics\\photo_2025-07-11_04-00-29 (3).jpg: 640x640 1 bottle, 125.8ms\n",
      "Speed: 3.2ms preprocess, 125.8ms inference, 1.0ms postprocess per image at shape (1, 3, 640, 640)\n"
     ]
    },
    {
     "name": "stderr",
     "output_type": "stream",
     "text": [
      "Running YOLO:  96%|█████████▌| 160/167 [00:28<00:01,  6.37it/s]"
     ]
    },
    {
     "name": "stdout",
     "output_type": "stream",
     "text": [
      "\n",
      "image 1/1 c:\\Users\\tsega\\TelegramMedicalBusinessAnalytics\\notebooks\\..\\data\\raw\\telegram_images\\2025-07-11\\lobelia4cosmetics\\photo_2025-07-11_04-00-29.jpg: 640x640 1 bottle, 122.1ms\n",
      "Speed: 3.3ms preprocess, 122.1ms inference, 1.0ms postprocess per image at shape (1, 3, 640, 640)\n"
     ]
    },
    {
     "name": "stderr",
     "output_type": "stream",
     "text": [
      "Running YOLO:  96%|█████████▋| 161/167 [00:28<00:00,  6.60it/s]"
     ]
    },
    {
     "name": "stdout",
     "output_type": "stream",
     "text": [
      "\n",
      "image 1/1 c:\\Users\\tsega\\TelegramMedicalBusinessAnalytics\\notebooks\\..\\data\\raw\\telegram_images\\2025-07-11\\lobelia4cosmetics\\photo_2025-07-11_04-00-30.jpg: 640x640 1 bottle, 132.7ms\n",
      "Speed: 3.7ms preprocess, 132.7ms inference, 1.0ms postprocess per image at shape (1, 3, 640, 640)\n"
     ]
    },
    {
     "name": "stderr",
     "output_type": "stream",
     "text": [
      "Running YOLO:  97%|█████████▋| 162/167 [00:29<00:00,  6.67it/s]"
     ]
    },
    {
     "name": "stdout",
     "output_type": "stream",
     "text": [
      "\n",
      "image 1/1 c:\\Users\\tsega\\TelegramMedicalBusinessAnalytics\\notebooks\\..\\data\\raw\\telegram_images\\2025-07-11\\lobelia4cosmetics\\photo_2025-07-11_07-12-05 (1).jpg: 640x480 1 cup, 102.6ms\n",
      "Speed: 2.3ms preprocess, 102.6ms inference, 1.2ms postprocess per image at shape (1, 3, 640, 480)\n"
     ]
    },
    {
     "name": "stderr",
     "output_type": "stream",
     "text": [
      "Running YOLO:  98%|█████████▊| 163/167 [00:29<00:00,  6.99it/s]"
     ]
    },
    {
     "name": "stdout",
     "output_type": "stream",
     "text": [
      "\n",
      "image 1/1 c:\\Users\\tsega\\TelegramMedicalBusinessAnalytics\\notebooks\\..\\data\\raw\\telegram_images\\2025-07-11\\lobelia4cosmetics\\photo_2025-07-11_07-12-05 (2).jpg: 640x640 (no detections), 116.0ms\n",
      "Speed: 3.4ms preprocess, 116.0ms inference, 2.1ms postprocess per image at shape (1, 3, 640, 640)\n"
     ]
    },
    {
     "name": "stderr",
     "output_type": "stream",
     "text": [
      "Running YOLO:  98%|█████████▊| 164/167 [00:29<00:00,  7.15it/s]"
     ]
    },
    {
     "name": "stdout",
     "output_type": "stream",
     "text": [
      "\n",
      "image 1/1 c:\\Users\\tsega\\TelegramMedicalBusinessAnalytics\\notebooks\\..\\data\\raw\\telegram_images\\2025-07-11\\lobelia4cosmetics\\photo_2025-07-11_07-12-05 (3).jpg: 640x384 1 bottle, 110.3ms\n",
      "Speed: 2.7ms preprocess, 110.3ms inference, 0.9ms postprocess per image at shape (1, 3, 640, 384)\n"
     ]
    },
    {
     "name": "stderr",
     "output_type": "stream",
     "text": [
      "Running YOLO:  99%|█████████▉| 165/167 [00:29<00:00,  7.36it/s]"
     ]
    },
    {
     "name": "stdout",
     "output_type": "stream",
     "text": [
      "\n",
      "image 1/1 c:\\Users\\tsega\\TelegramMedicalBusinessAnalytics\\notebooks\\..\\data\\raw\\telegram_images\\2025-07-11\\lobelia4cosmetics\\photo_2025-07-11_07-12-05 (4).jpg: 640x640 (no detections), 118.7ms\n",
      "Speed: 4.2ms preprocess, 118.7ms inference, 0.6ms postprocess per image at shape (1, 3, 640, 640)\n"
     ]
    },
    {
     "name": "stderr",
     "output_type": "stream",
     "text": [
      "Running YOLO:  99%|█████████▉| 166/167 [00:29<00:00,  7.37it/s]"
     ]
    },
    {
     "name": "stdout",
     "output_type": "stream",
     "text": [
      "\n",
      "image 1/1 c:\\Users\\tsega\\TelegramMedicalBusinessAnalytics\\notebooks\\..\\data\\raw\\telegram_images\\2025-07-11\\lobelia4cosmetics\\photo_2025-07-11_07-12-05.jpg: 640x480 1 bottle, 103.5ms\n",
      "Speed: 2.3ms preprocess, 103.5ms inference, 1.2ms postprocess per image at shape (1, 3, 640, 480)\n"
     ]
    },
    {
     "name": "stderr",
     "output_type": "stream",
     "text": [
      "Running YOLO: 100%|██████████| 167/167 [00:29<00:00,  5.61it/s]\n"
     ]
    }
   ],
   "source": [
    "# 🤖 Step 4: Run YOLO detections\n",
    "run_yolo_detections(conn, model_path=\"yolov8n.pt\")  # You can also use yolov8s.pt or custom model\n"
   ]
  },
  {
   "cell_type": "code",
   "execution_count": 6,
   "id": "a4234668",
   "metadata": {},
   "outputs": [
    {
     "name": "stderr",
     "output_type": "stream",
     "text": [
      "C:\\Users\\tsega\\AppData\\Local\\Temp\\ipykernel_21136\\365462632.py:4: UserWarning: pandas only supports SQLAlchemy connectable (engine/connection) or database string URI or sqlite3 DBAPI2 connection. Other DBAPI2 objects are not tested. Please consider using SQLAlchemy.\n",
      "  pd.read_sql(\"SELECT * FROM raw.image_detections LIMIT 5;\", conn)\n"
     ]
    }
   ],
   "source": [
    "import pandas as pd\n",
    "\n",
    "conn = connect_postgres(password=os.getenv(\"DB_PASSWORD\"))\n",
    "pd.read_sql(\"SELECT * FROM raw.image_detections LIMIT 5;\", conn)\n",
    "conn.close()\n"
   ]
  },
  {
   "cell_type": "code",
   "execution_count": 19,
   "id": "6576bc10",
   "metadata": {},
   "outputs": [],
   "source": [
    "from sqlalchemy import create_engine\n",
    "\n",
    "username = 'postgres'\n",
    "password = os.getenv(\"DB_PASSWORD\")  # your actual password\n",
    "host = 'localhost'\n",
    "port = 5432\n",
    "database = 'my_data_warehouse'\n",
    "\n",
    "# If password contains special characters, use urllib.parse.quote_plus\n",
    "from urllib.parse import quote_plus\n",
    "encoded_password = quote_plus(password)\n",
    "\n",
    "db_url = f'postgresql://{username}:{encoded_password}@{host}:{port}/{database}'\n",
    "engine = create_engine(db_url)\n"
   ]
  },
  {
   "cell_type": "code",
   "execution_count": 20,
   "id": "d69ddff7",
   "metadata": {},
   "outputs": [
    {
     "data": {
      "text/html": [
       "<div>\n",
       "<style scoped>\n",
       "    .dataframe tbody tr th:only-of-type {\n",
       "        vertical-align: middle;\n",
       "    }\n",
       "\n",
       "    .dataframe tbody tr th {\n",
       "        vertical-align: top;\n",
       "    }\n",
       "\n",
       "    .dataframe thead th {\n",
       "        text-align: right;\n",
       "    }\n",
       "</style>\n",
       "<table border=\"1\" class=\"dataframe\">\n",
       "  <thead>\n",
       "    <tr style=\"text-align: right;\">\n",
       "      <th></th>\n",
       "      <th>id</th>\n",
       "      <th>image_id</th>\n",
       "      <th>detected_class</th>\n",
       "      <th>confidence_score</th>\n",
       "    </tr>\n",
       "  </thead>\n",
       "  <tbody>\n",
       "    <tr>\n",
       "      <th>0</th>\n",
       "      <td>1</td>\n",
       "      <td>1</td>\n",
       "      <td>bottle</td>\n",
       "      <td>0.387183</td>\n",
       "    </tr>\n",
       "    <tr>\n",
       "      <th>1</th>\n",
       "      <td>2</td>\n",
       "      <td>3</td>\n",
       "      <td>bottle</td>\n",
       "      <td>0.387183</td>\n",
       "    </tr>\n",
       "    <tr>\n",
       "      <th>2</th>\n",
       "      <td>3</td>\n",
       "      <td>5</td>\n",
       "      <td>clock</td>\n",
       "      <td>0.427293</td>\n",
       "    </tr>\n",
       "    <tr>\n",
       "      <th>3</th>\n",
       "      <td>4</td>\n",
       "      <td>6</td>\n",
       "      <td>hot dog</td>\n",
       "      <td>0.503856</td>\n",
       "    </tr>\n",
       "    <tr>\n",
       "      <th>4</th>\n",
       "      <td>5</td>\n",
       "      <td>6</td>\n",
       "      <td>donut</td>\n",
       "      <td>0.398998</td>\n",
       "    </tr>\n",
       "  </tbody>\n",
       "</table>\n",
       "</div>"
      ],
      "text/plain": [
       "   id  image_id detected_class  confidence_score\n",
       "0   1         1         bottle          0.387183\n",
       "1   2         3         bottle          0.387183\n",
       "2   3         5          clock          0.427293\n",
       "3   4         6        hot dog          0.503856\n",
       "4   5         6          donut          0.398998"
      ]
     },
     "execution_count": 20,
     "metadata": {},
     "output_type": "execute_result"
    }
   ],
   "source": [
    "# Now safely read using SQLAlchemy engine\n",
    "df = pd.read_sql(\"SELECT * FROM raw.image_detections LIMIT 5;\", engine)\n",
    "df.head()\n"
   ]
  },
  {
   "cell_type": "code",
   "execution_count": 21,
   "id": "20cda21e",
   "metadata": {},
   "outputs": [
    {
     "name": "stdout",
     "output_type": "stream",
     "text": [
      "0    False\n",
      "1    False\n",
      "2    False\n",
      "3    False\n",
      "4    False\n",
      "Name: confidence_score, dtype: bool\n"
     ]
    }
   ],
   "source": [
    "print(df['confidence_score'] > 0.6)"
   ]
  }
 ],
 "metadata": {
  "kernelspec": {
   "display_name": ".venv",
   "language": "python",
   "name": "python3"
  },
  "language_info": {
   "codemirror_mode": {
    "name": "ipython",
    "version": 3
   },
   "file_extension": ".py",
   "mimetype": "text/x-python",
   "name": "python",
   "nbconvert_exporter": "python",
   "pygments_lexer": "ipython3",
   "version": "3.11.3"
  }
 },
 "nbformat": 4,
 "nbformat_minor": 5
}
